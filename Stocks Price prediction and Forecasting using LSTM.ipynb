{
 "cells": [
  {
   "cell_type": "markdown",
   "id": "c20892f3",
   "metadata": {},
   "source": [
    "**Stocks Price prediction and Forecasting using Stacked LSTM**"
   ]
  },
  {
   "cell_type": "code",
   "execution_count": 1,
   "id": "a7cad852",
   "metadata": {},
   "outputs": [
    {
     "data": {
      "text/plain": [
       "'\\ncreated on 11/08/2021\\n@author: Rohit Sharma\\n\\n####################################\\nSteps:-\\n1. Collect the stock data -- AAPL (Apple company stock prices)\\n2. Process the data-- Train and Test\\n3. Create an Stacked LSTM model\\n4. Predict the test data and plot the output\\n5. Predict the future 30 days and plot the output\\n'"
      ]
     },
     "execution_count": 1,
     "metadata": {},
     "output_type": "execute_result"
    }
   ],
   "source": [
    "'''\n",
    "created on 11/08/2021\n",
    "@author: Rohit Sharma\n",
    "\n",
    "####################################\n",
    "Steps:-\n",
    "1. Collect the stock data -- AAPL (Apple company stock prices)\n",
    "2. Process the data-- Train and Test\n",
    "3. Create an Stacked LSTM model\n",
    "4. Predict the test data and plot the output\n",
    "5. Predict the future 30 days and plot the output\n",
    "'''"
   ]
  },
  {
   "cell_type": "code",
   "execution_count": 2,
   "id": "16c08306",
   "metadata": {},
   "outputs": [],
   "source": [
    "#Get data from tiingo through API and save it for model prediction\n",
    "import pandas_datareader as pdr   \n",
    "key = ' ' # here you have add your API key\n",
    "\n",
    "# Get API key from https://www.tiingo.com/"
   ]
  },
  {
   "cell_type": "code",
   "execution_count": 3,
   "id": "edb04ceb",
   "metadata": {},
   "outputs": [
    {
     "name": "stderr",
     "output_type": "stream",
     "text": [
      "c:\\users\\rohit\\appdata\\local\\programs\\python\\python39\\lib\\site-packages\\pandas_datareader\\tiingo.py:234: FutureWarning: In a future version of pandas all arguments of concat except for the argument 'objs' will be keyword-only\n",
      "  return pd.concat(dfs, self._concat_axis)\n"
     ]
    }
   ],
   "source": [
    "df = pdr.get_data_tiingo('AAPL', api_key = key)"
   ]
  },
  {
   "cell_type": "code",
   "execution_count": 4,
   "id": "b168fb5f",
   "metadata": {},
   "outputs": [],
   "source": [
    "df.to_csv(r'D:\\Study\\Deep Learning\\Stocks Price Prediction usinf Stacked LSTM\\AAPL.csv')"
   ]
  },
  {
   "cell_type": "code",
   "execution_count": 5,
   "id": "0354b7cb",
   "metadata": {},
   "outputs": [],
   "source": [
    "import pandas as pd "
   ]
  },
  {
   "cell_type": "code",
   "execution_count": 6,
   "id": "0a732c0f",
   "metadata": {},
   "outputs": [],
   "source": [
    "df = pd.read_csv(r'D:\\Study\\Deep Learning\\Stocks Price Prediction usinf Stacked LSTM\\AAPL.csv')"
   ]
  },
  {
   "cell_type": "code",
   "execution_count": 7,
   "id": "7a030793",
   "metadata": {},
   "outputs": [
    {
     "data": {
      "text/html": [
       "<div>\n",
       "<style scoped>\n",
       "    .dataframe tbody tr th:only-of-type {\n",
       "        vertical-align: middle;\n",
       "    }\n",
       "\n",
       "    .dataframe tbody tr th {\n",
       "        vertical-align: top;\n",
       "    }\n",
       "\n",
       "    .dataframe thead th {\n",
       "        text-align: right;\n",
       "    }\n",
       "</style>\n",
       "<table border=\"1\" class=\"dataframe\">\n",
       "  <thead>\n",
       "    <tr style=\"text-align: right;\">\n",
       "      <th></th>\n",
       "      <th>symbol</th>\n",
       "      <th>date</th>\n",
       "      <th>close</th>\n",
       "      <th>high</th>\n",
       "      <th>low</th>\n",
       "      <th>open</th>\n",
       "      <th>volume</th>\n",
       "      <th>adjClose</th>\n",
       "      <th>adjHigh</th>\n",
       "      <th>adjLow</th>\n",
       "      <th>adjOpen</th>\n",
       "      <th>adjVolume</th>\n",
       "      <th>divCash</th>\n",
       "      <th>splitFactor</th>\n",
       "    </tr>\n",
       "  </thead>\n",
       "  <tbody>\n",
       "    <tr>\n",
       "      <th>0</th>\n",
       "      <td>AAPL</td>\n",
       "      <td>2016-08-12 00:00:00+00:00</td>\n",
       "      <td>108.18</td>\n",
       "      <td>108.44</td>\n",
       "      <td>107.78</td>\n",
       "      <td>107.78</td>\n",
       "      <td>18660434</td>\n",
       "      <td>25.359316</td>\n",
       "      <td>25.420264</td>\n",
       "      <td>25.265548</td>\n",
       "      <td>25.265548</td>\n",
       "      <td>74641736</td>\n",
       "      <td>0.0</td>\n",
       "      <td>1.0</td>\n",
       "    </tr>\n",
       "    <tr>\n",
       "      <th>1</th>\n",
       "      <td>AAPL</td>\n",
       "      <td>2016-08-15 00:00:00+00:00</td>\n",
       "      <td>109.48</td>\n",
       "      <td>109.54</td>\n",
       "      <td>108.08</td>\n",
       "      <td>108.14</td>\n",
       "      <td>25868209</td>\n",
       "      <td>25.664059</td>\n",
       "      <td>25.678124</td>\n",
       "      <td>25.335874</td>\n",
       "      <td>25.349939</td>\n",
       "      <td>103472836</td>\n",
       "      <td>0.0</td>\n",
       "      <td>1.0</td>\n",
       "    </tr>\n",
       "    <tr>\n",
       "      <th>2</th>\n",
       "      <td>AAPL</td>\n",
       "      <td>2016-08-16 00:00:00+00:00</td>\n",
       "      <td>109.38</td>\n",
       "      <td>110.23</td>\n",
       "      <td>109.21</td>\n",
       "      <td>109.63</td>\n",
       "      <td>33794448</td>\n",
       "      <td>25.640617</td>\n",
       "      <td>25.839872</td>\n",
       "      <td>25.600766</td>\n",
       "      <td>25.699221</td>\n",
       "      <td>135177792</td>\n",
       "      <td>0.0</td>\n",
       "      <td>1.0</td>\n",
       "    </tr>\n",
       "    <tr>\n",
       "      <th>3</th>\n",
       "      <td>AAPL</td>\n",
       "      <td>2016-08-17 00:00:00+00:00</td>\n",
       "      <td>109.22</td>\n",
       "      <td>109.37</td>\n",
       "      <td>108.34</td>\n",
       "      <td>109.10</td>\n",
       "      <td>25355976</td>\n",
       "      <td>25.603110</td>\n",
       "      <td>25.638273</td>\n",
       "      <td>25.396822</td>\n",
       "      <td>25.574980</td>\n",
       "      <td>101423904</td>\n",
       "      <td>0.0</td>\n",
       "      <td>1.0</td>\n",
       "    </tr>\n",
       "    <tr>\n",
       "      <th>4</th>\n",
       "      <td>AAPL</td>\n",
       "      <td>2016-08-18 00:00:00+00:00</td>\n",
       "      <td>109.08</td>\n",
       "      <td>109.60</td>\n",
       "      <td>109.02</td>\n",
       "      <td>109.23</td>\n",
       "      <td>21984703</td>\n",
       "      <td>25.570292</td>\n",
       "      <td>25.692189</td>\n",
       "      <td>25.556227</td>\n",
       "      <td>25.605454</td>\n",
       "      <td>87938812</td>\n",
       "      <td>0.0</td>\n",
       "      <td>1.0</td>\n",
       "    </tr>\n",
       "  </tbody>\n",
       "</table>\n",
       "</div>"
      ],
      "text/plain": [
       "  symbol                       date   close    high     low    open    volume  \\\n",
       "0   AAPL  2016-08-12 00:00:00+00:00  108.18  108.44  107.78  107.78  18660434   \n",
       "1   AAPL  2016-08-15 00:00:00+00:00  109.48  109.54  108.08  108.14  25868209   \n",
       "2   AAPL  2016-08-16 00:00:00+00:00  109.38  110.23  109.21  109.63  33794448   \n",
       "3   AAPL  2016-08-17 00:00:00+00:00  109.22  109.37  108.34  109.10  25355976   \n",
       "4   AAPL  2016-08-18 00:00:00+00:00  109.08  109.60  109.02  109.23  21984703   \n",
       "\n",
       "    adjClose    adjHigh     adjLow    adjOpen  adjVolume  divCash  splitFactor  \n",
       "0  25.359316  25.420264  25.265548  25.265548   74641736      0.0          1.0  \n",
       "1  25.664059  25.678124  25.335874  25.349939  103472836      0.0          1.0  \n",
       "2  25.640617  25.839872  25.600766  25.699221  135177792      0.0          1.0  \n",
       "3  25.603110  25.638273  25.396822  25.574980  101423904      0.0          1.0  \n",
       "4  25.570292  25.692189  25.556227  25.605454   87938812      0.0          1.0  "
      ]
     },
     "execution_count": 7,
     "metadata": {},
     "output_type": "execute_result"
    }
   ],
   "source": [
    "df.head()"
   ]
  },
  {
   "cell_type": "code",
   "execution_count": 8,
   "id": "8eb95bb3",
   "metadata": {},
   "outputs": [],
   "source": [
    "df2 = df.reset_index()['close']"
   ]
  },
  {
   "cell_type": "code",
   "execution_count": 9,
   "id": "6c3d577c",
   "metadata": {},
   "outputs": [
    {
     "data": {
      "text/plain": [
       "0    108.18\n",
       "1    109.48\n",
       "2    109.38\n",
       "3    109.22\n",
       "4    109.08\n",
       "Name: close, dtype: float64"
      ]
     },
     "execution_count": 9,
     "metadata": {},
     "output_type": "execute_result"
    }
   ],
   "source": [
    "df2.head()"
   ]
  },
  {
   "cell_type": "code",
   "execution_count": 10,
   "id": "5dc5b498",
   "metadata": {},
   "outputs": [
    {
     "data": {
      "text/plain": [
       "(1257,)"
      ]
     },
     "execution_count": 10,
     "metadata": {},
     "output_type": "execute_result"
    }
   ],
   "source": [
    "df2.shape"
   ]
  },
  {
   "cell_type": "code",
   "execution_count": 11,
   "id": "cf063811",
   "metadata": {},
   "outputs": [
    {
     "data": {
      "text/plain": [
       "[<matplotlib.lines.Line2D at 0x280c8f577c0>]"
      ]
     },
     "execution_count": 11,
     "metadata": {},
     "output_type": "execute_result"
    },
    {
     "data": {
      "image/png": "[encoded data removed]",
      "text/plain": [
       "<Figure size 432x288 with 1 Axes>"
      ]
     },
     "metadata": {
      "needs_background": "light"
     },
     "output_type": "display_data"
    }
   ],
   "source": [
    "import matplotlib.pyplot as plt\n",
    "plt.plot(df2)"
   ]
  },
  {
   "cell_type": "markdown",
   "id": "abd58180",
   "metadata": {},
   "source": [
    "LSTM are sensitive to use the scale of the data, so we apply MinMax scaler"
   ]
  },
  {
   "cell_type": "code",
   "execution_count": 12,
   "id": "04bf8217",
   "metadata": {},
   "outputs": [],
   "source": [
    "import numpy as np\n",
    "from sklearn.preprocessing import MinMaxScaler\n",
    "scaler = MinMaxScaler(feature_range = (0,1))  #here we are scaling the values between 0,1\n",
    "df2 = scaler.fit_transform(np.array(df2).reshape(-1,1))"
   ]
  },
  {
   "cell_type": "code",
   "execution_count": 13,
   "id": "934c1ab5",
   "metadata": {},
   "outputs": [
    {
     "data": {
      "text/plain": [
       "(1257, 1)"
      ]
     },
     "execution_count": 13,
     "metadata": {},
     "output_type": "execute_result"
    }
   ],
   "source": [
    "df2.shape"
   ]
  },
  {
   "cell_type": "code",
   "execution_count": 14,
   "id": "cee6f1c4",
   "metadata": {},
   "outputs": [],
   "source": [
    "#splitting dataset into train and test split\n",
    "training_size = int(len(df2)*0.65) #65% of data is my training data rest is testing\n",
    "test_size = len(df2) - training_size\n",
    "train_data, test_data = df2[0:training_size,:], df2[training_size:len(df2),:1]"
   ]
  },
  {
   "cell_type": "code",
   "execution_count": 15,
   "id": "05d3ce7b",
   "metadata": {},
   "outputs": [],
   "source": [
    "import numpy\n",
    "#convert an array of values into a dataset matrix\n",
    "def create_dataset(dataset, time_step = 1):\n",
    "    dataX, dataY = [], []\n",
    "    for i in range(len(dataset)-time_step-1):\n",
    "        a = dataset[i:(i+time_step), 0]  #i = 0  0,1,2,3---99   in y_train 100\n",
    "        dataX.append(a)\n",
    "        dataY.append(dataset[i + time_step, 0])\n",
    "    return numpy.array(dataX), numpy.array(dataY)"
   ]
  },
  {
   "cell_type": "code",
   "execution_count": 16,
   "id": "63dc0a59",
   "metadata": {},
   "outputs": [],
   "source": [
    "#reshape into X=t, t+1, t+2, t+3 and Y = t+4\n",
    "time_step = 100\n",
    "X_train, y_train = create_dataset(train_data, time_step)\n",
    "X_test, ytest = create_dataset(test_data, time_step)"
   ]
  },
  {
   "cell_type": "code",
   "execution_count": 17,
   "id": "cdc8c8ee",
   "metadata": {},
   "outputs": [
    {
     "name": "stdout",
     "output_type": "stream",
     "text": [
      "[[0.01253226 0.01575839 0.01551022 ... 0.03149196 0.0323109  0.03198829]\n",
      " [0.01575839 0.01551022 0.01511316 ... 0.0323109  0.03198829 0.03345245]\n",
      " [0.01551022 0.01511316 0.01476573 ... 0.03198829 0.03345245 0.03667858]\n",
      " ...\n",
      " [0.22237939 0.22523327 0.23654953 ... 0.36140064 0.37892098 0.38309013]\n",
      " [0.22523327 0.23654953 0.23511018 ... 0.37892098 0.38309013 0.38217193]\n",
      " [0.23654953 0.23511018 0.23905599 ... 0.38309013 0.38217193 0.38244491]]\n"
     ]
    }
   ],
   "source": [
    "print(X_train)"
   ]
  },
  {
   "cell_type": "code",
   "execution_count": 18,
   "id": "78d04219",
   "metadata": {},
   "outputs": [
    {
     "name": "stdout",
     "output_type": "stream",
     "text": [
      "(716, 100)\n",
      "(716,)\n"
     ]
    },
    {
     "data": {
      "text/plain": [
       "(None, None)"
      ]
     },
     "execution_count": 18,
     "metadata": {},
     "output_type": "execute_result"
    }
   ],
   "source": [
    "print(X_train.shape), print(y_train.shape)"
   ]
  },
  {
   "cell_type": "code",
   "execution_count": 19,
   "id": "970a2dc0",
   "metadata": {},
   "outputs": [
    {
     "name": "stdout",
     "output_type": "stream",
     "text": [
      "(339, 100)\n",
      "(339,)\n"
     ]
    },
    {
     "data": {
      "text/plain": [
       "(None, None)"
      ]
     },
     "execution_count": 19,
     "metadata": {},
     "output_type": "execute_result"
    }
   ],
   "source": [
    "print(X_test.shape), print(ytest.shape)"
   ]
  },
  {
   "cell_type": "code",
   "execution_count": 20,
   "id": "42682bf0",
   "metadata": {},
   "outputs": [],
   "source": [
    "#reshape input to be[samples, time steps, features] which is required for LSTM\n",
    "X_train = X_train.reshape(X_train.shape[0], X_train.shape[1], 1)  #1 is added here to convert into 3 dimesions\n",
    "X_test = X_test.reshape(X_test.shape[0], X_test.shape[1], 1)"
   ]
  },
  {
   "cell_type": "code",
   "execution_count": 21,
   "id": "38f0d026",
   "metadata": {},
   "outputs": [],
   "source": [
    "#create the LSTM model\n",
    "from tensorflow.keras.models import Sequential\n",
    "from tensorflow.keras.layers import Dense\n",
    "from tensorflow.keras.layers import LSTM"
   ]
  },
  {
   "cell_type": "code",
   "execution_count": 22,
   "id": "9ea0ad66",
   "metadata": {},
   "outputs": [],
   "source": [
    "#stacked LSTM means one LSTM after the other\n",
    "model = Sequential()\n",
    "model.add(LSTM(50, return_sequences = True, input_shape = (100, 1)))\n",
    "model.add(LSTM(50, return_sequences = True))\n",
    "model.add(LSTM(50))\n",
    "model.add(Dense(1))\n",
    "model.compile(loss='mean_squared_error', optimizer = 'adam')"
   ]
  },
  {
   "cell_type": "code",
   "execution_count": 23,
   "id": "241813bf",
   "metadata": {},
   "outputs": [
    {
     "name": "stdout",
     "output_type": "stream",
     "text": [
      "Model: \"sequential\"\n",
      "_________________________________________________________________\n",
      "Layer (type)                 Output Shape              Param #   \n",
      "=================================================================\n",
      "lstm (LSTM)                  (None, 100, 50)           10400     \n",
      "_________________________________________________________________\n",
      "lstm_1 (LSTM)                (None, 100, 50)           20200     \n",
      "_________________________________________________________________\n",
      "lstm_2 (LSTM)                (None, 50)                20200     \n",
      "_________________________________________________________________\n",
      "dense (Dense)                (None, 1)                 51        \n",
      "=================================================================\n",
      "Total params: 50,851\n",
      "Trainable params: 50,851\n",
      "Non-trainable params: 0\n",
      "_________________________________________________________________\n"
     ]
    }
   ],
   "source": [
    "model.summary()"
   ]
  },
  {
   "cell_type": "code",
   "execution_count": 24,
   "id": "8f156bf8",
   "metadata": {},
   "outputs": [
    {
     "name": "stdout",
     "output_type": "stream",
     "text": [
      "Epoch 1/100\n",
      "12/12 [==============================] - 6s 255ms/step - loss: 0.0116 - val_loss: 0.0378\n",
      "Epoch 2/100\n",
      "12/12 [==============================] - 2s 187ms/step - loss: 0.0023 - val_loss: 0.0271\n",
      "Epoch 3/100\n",
      "12/12 [==============================] - 2s 178ms/step - loss: 0.0013 - val_loss: 0.0250\n",
      "Epoch 4/100\n",
      "12/12 [==============================] - 2s 196ms/step - loss: 8.0337e-04 - val_loss: 0.0200\n",
      "Epoch 5/100\n",
      "12/12 [==============================] - 2s 199ms/step - loss: 5.3255e-04 - val_loss: 0.0220\n",
      "Epoch 6/100\n",
      "12/12 [==============================] - 2s 183ms/step - loss: 4.9378e-04 - val_loss: 0.0202\n",
      "Epoch 7/100\n",
      "12/12 [==============================] - 2s 191ms/step - loss: 5.5726e-04 - val_loss: 0.0190\n",
      "Epoch 8/100\n",
      "12/12 [==============================] - 2s 195ms/step - loss: 5.7196e-04 - val_loss: 0.0186\n",
      "Epoch 9/100\n",
      "12/12 [==============================] - 2s 190ms/step - loss: 4.4402e-04 - val_loss: 0.0187\n",
      "Epoch 10/100\n",
      "12/12 [==============================] - 2s 175ms/step - loss: 4.1400e-04 - val_loss: 0.0179\n",
      "Epoch 11/100\n",
      "12/12 [==============================] - 2s 188ms/step - loss: 4.0279e-04 - val_loss: 0.0174\n",
      "Epoch 12/100\n",
      "12/12 [==============================] - 2s 187ms/step - loss: 3.7327e-04 - val_loss: 0.0175\n",
      "Epoch 13/100\n",
      "12/12 [==============================] - 2s 188ms/step - loss: 3.3764e-04 - val_loss: 0.0172\n",
      "Epoch 14/100\n",
      "12/12 [==============================] - 4s 327ms/step - loss: 3.2542e-04 - val_loss: 0.0175\n",
      "Epoch 15/100\n",
      "12/12 [==============================] - 4s 336ms/step - loss: 2.9655e-04 - val_loss: 0.0168\n",
      "Epoch 16/100\n",
      "12/12 [==============================] - 5s 382ms/step - loss: 2.8280e-04 - val_loss: 0.0163\n",
      "Epoch 17/100\n",
      "12/12 [==============================] - 5s 387ms/step - loss: 2.6799e-04 - val_loss: 0.0176\n",
      "Epoch 18/100\n",
      "12/12 [==============================] - 4s 352ms/step - loss: 2.8052e-04 - val_loss: 0.0154\n",
      "Epoch 19/100\n",
      "12/12 [==============================] - 3s 290ms/step - loss: 2.6463e-04 - val_loss: 0.0168\n",
      "Epoch 20/100\n",
      "12/12 [==============================] - 3s 222ms/step - loss: 2.7452e-04 - val_loss: 0.0151\n",
      "Epoch 21/100\n",
      "12/12 [==============================] - 2s 182ms/step - loss: 2.6077e-04 - val_loss: 0.0162\n",
      "Epoch 22/100\n",
      "12/12 [==============================] - 2s 170ms/step - loss: 2.5212e-04 - val_loss: 0.0143\n",
      "Epoch 23/100\n",
      "12/12 [==============================] - 2s 183ms/step - loss: 2.8862e-04 - val_loss: 0.0150\n",
      "Epoch 24/100\n",
      "12/12 [==============================] - 2s 173ms/step - loss: 2.4118e-04 - val_loss: 0.0149\n",
      "Epoch 25/100\n",
      "12/12 [==============================] - 2s 183ms/step - loss: 2.3921e-04 - val_loss: 0.0153\n",
      "Epoch 26/100\n",
      "12/12 [==============================] - 2s 186ms/step - loss: 2.3316e-04 - val_loss: 0.0150\n",
      "Epoch 27/100\n",
      "12/12 [==============================] - 2s 187ms/step - loss: 2.3770e-04 - val_loss: 0.0154\n",
      "Epoch 28/100\n",
      "12/12 [==============================] - 3s 230ms/step - loss: 2.2461e-04 - val_loss: 0.0145\n",
      "Epoch 29/100\n",
      "12/12 [==============================] - 3s 239ms/step - loss: 2.4699e-04 - val_loss: 0.0171\n",
      "Epoch 30/100\n",
      "12/12 [==============================] - 3s 235ms/step - loss: 2.6529e-04 - val_loss: 0.0136\n",
      "Epoch 31/100\n",
      "12/12 [==============================] - 3s 232ms/step - loss: 2.7648e-04 - val_loss: 0.0144\n",
      "Epoch 32/100\n",
      "12/12 [==============================] - 3s 230ms/step - loss: 2.4390e-04 - val_loss: 0.0145\n",
      "Epoch 33/100\n",
      "12/12 [==============================] - 3s 231ms/step - loss: 2.1416e-04 - val_loss: 0.0144\n",
      "Epoch 34/100\n",
      "12/12 [==============================] - 3s 234ms/step - loss: 2.1507e-04 - val_loss: 0.0155\n",
      "Epoch 35/100\n",
      "12/12 [==============================] - 3s 230ms/step - loss: 2.3655e-04 - val_loss: 0.0169\n",
      "Epoch 36/100\n",
      "12/12 [==============================] - 3s 262ms/step - loss: 2.7088e-04 - val_loss: 0.0142\n",
      "Epoch 37/100\n",
      "12/12 [==============================] - 3s 232ms/step - loss: 2.4028e-04 - val_loss: 0.0150\n",
      "Epoch 38/100\n",
      "12/12 [==============================] - 3s 228ms/step - loss: 2.3182e-04 - val_loss: 0.0164\n",
      "Epoch 39/100\n",
      "12/12 [==============================] - 3s 227ms/step - loss: 2.0564e-04 - val_loss: 0.0160\n",
      "Epoch 40/100\n",
      "12/12 [==============================] - 3s 229ms/step - loss: 2.0215e-04 - val_loss: 0.0174\n",
      "Epoch 41/100\n",
      "12/12 [==============================] - 3s 225ms/step - loss: 2.0117e-04 - val_loss: 0.0156\n",
      "Epoch 42/100\n",
      "12/12 [==============================] - 3s 232ms/step - loss: 1.9993e-04 - val_loss: 0.0155\n",
      "Epoch 43/100\n",
      "12/12 [==============================] - 3s 229ms/step - loss: 1.9193e-04 - val_loss: 0.0182\n",
      "Epoch 44/100\n",
      "12/12 [==============================] - 3s 228ms/step - loss: 1.9456e-04 - val_loss: 0.0159\n",
      "Epoch 45/100\n",
      "12/12 [==============================] - 3s 228ms/step - loss: 1.8742e-04 - val_loss: 0.0167\n",
      "Epoch 46/100\n",
      "12/12 [==============================] - 3s 230ms/step - loss: 1.9977e-04 - val_loss: 0.0174\n",
      "Epoch 47/100\n",
      "12/12 [==============================] - 3s 227ms/step - loss: 1.8351e-04 - val_loss: 0.0174\n",
      "Epoch 48/100\n",
      "12/12 [==============================] - 3s 229ms/step - loss: 1.8149e-04 - val_loss: 0.0174\n",
      "Epoch 49/100\n",
      "12/12 [==============================] - 3s 224ms/step - loss: 1.8686e-04 - val_loss: 0.0178\n",
      "Epoch 50/100\n",
      "12/12 [==============================] - 3s 232ms/step - loss: 1.7408e-04 - val_loss: 0.0191\n",
      "Epoch 51/100\n",
      "12/12 [==============================] - 3s 263ms/step - loss: 1.9884e-04 - val_loss: 0.0160\n",
      "Epoch 52/100\n",
      "12/12 [==============================] - 3s 231ms/step - loss: 1.9437e-04 - val_loss: 0.0163\n",
      "Epoch 53/100\n",
      "12/12 [==============================] - 3s 223ms/step - loss: 1.7982e-04 - val_loss: 0.0185\n",
      "Epoch 54/100\n",
      "12/12 [==============================] - 3s 231ms/step - loss: 1.7910e-04 - val_loss: 0.0167\n",
      "Epoch 55/100\n",
      "12/12 [==============================] - 3s 232ms/step - loss: 1.6961e-04 - val_loss: 0.0203\n",
      "Epoch 56/100\n",
      "12/12 [==============================] - 3s 229ms/step - loss: 1.8794e-04 - val_loss: 0.0162\n",
      "Epoch 57/100\n",
      "12/12 [==============================] - 3s 228ms/step - loss: 1.8516e-04 - val_loss: 0.0192\n",
      "Epoch 58/100\n",
      "12/12 [==============================] - 3s 226ms/step - loss: 1.7332e-04 - val_loss: 0.0163\n",
      "Epoch 59/100\n",
      "12/12 [==============================] - 3s 234ms/step - loss: 1.6026e-04 - val_loss: 0.0172\n",
      "Epoch 60/100\n",
      "12/12 [==============================] - 3s 231ms/step - loss: 1.5870e-04 - val_loss: 0.0190\n",
      "Epoch 61/100\n",
      "12/12 [==============================] - 3s 227ms/step - loss: 1.5356e-04 - val_loss: 0.0163\n",
      "Epoch 62/100\n",
      "12/12 [==============================] - 3s 231ms/step - loss: 1.6494e-04 - val_loss: 0.0174\n",
      "Epoch 63/100\n",
      "12/12 [==============================] - 3s 226ms/step - loss: 1.4804e-04 - val_loss: 0.0160\n",
      "Epoch 64/100\n",
      "12/12 [==============================] - 3s 226ms/step - loss: 1.5017e-04 - val_loss: 0.0176\n",
      "Epoch 65/100\n",
      "12/12 [==============================] - 3s 229ms/step - loss: 1.5001e-04 - val_loss: 0.0186\n",
      "Epoch 66/100\n",
      "12/12 [==============================] - 3s 227ms/step - loss: 1.6680e-04 - val_loss: 0.0143\n",
      "Epoch 67/100\n",
      "12/12 [==============================] - 3s 223ms/step - loss: 1.6585e-04 - val_loss: 0.0173\n",
      "Epoch 68/100\n",
      "12/12 [==============================] - 3s 231ms/step - loss: 1.5391e-04 - val_loss: 0.0151\n",
      "Epoch 69/100\n",
      "12/12 [==============================] - 3s 222ms/step - loss: 1.5313e-04 - val_loss: 0.0137\n",
      "Epoch 70/100\n",
      "12/12 [==============================] - 3s 230ms/step - loss: 1.5361e-04 - val_loss: 0.0169\n",
      "Epoch 71/100\n",
      "12/12 [==============================] - 3s 229ms/step - loss: 1.3653e-04 - val_loss: 0.0161\n",
      "Epoch 72/100\n",
      "12/12 [==============================] - 3s 226ms/step - loss: 1.3210e-04 - val_loss: 0.0163\n",
      "Epoch 73/100\n",
      "12/12 [==============================] - 3s 234ms/step - loss: 1.3079e-04 - val_loss: 0.0139\n",
      "Epoch 74/100\n",
      "12/12 [==============================] - 3s 234ms/step - loss: 1.2995e-04 - val_loss: 0.0169\n",
      "Epoch 75/100\n",
      "12/12 [==============================] - 3s 231ms/step - loss: 1.4422e-04 - val_loss: 0.0148\n",
      "Epoch 76/100\n",
      "12/12 [==============================] - 3s 228ms/step - loss: 1.3221e-04 - val_loss: 0.0136\n",
      "Epoch 77/100\n",
      "12/12 [==============================] - 3s 232ms/step - loss: 1.2699e-04 - val_loss: 0.0126\n",
      "Epoch 78/100\n"
     ]
    },
    {
     "name": "stdout",
     "output_type": "stream",
     "text": [
      "12/12 [==============================] - 3s 222ms/step - loss: 1.2858e-04 - val_loss: 0.0135\n",
      "Epoch 79/100\n",
      "12/12 [==============================] - 3s 229ms/step - loss: 1.3037e-04 - val_loss: 0.0142\n",
      "Epoch 80/100\n",
      "12/12 [==============================] - 3s 223ms/step - loss: 1.4356e-04 - val_loss: 0.0132\n",
      "Epoch 81/100\n",
      "12/12 [==============================] - 3s 238ms/step - loss: 1.3133e-04 - val_loss: 0.0116\n",
      "Epoch 82/100\n",
      "12/12 [==============================] - 3s 225ms/step - loss: 1.2671e-04 - val_loss: 0.0118\n",
      "Epoch 83/100\n",
      "12/12 [==============================] - 3s 231ms/step - loss: 1.2048e-04 - val_loss: 0.0140\n",
      "Epoch 84/100\n",
      "12/12 [==============================] - 3s 235ms/step - loss: 1.2335e-04 - val_loss: 0.0109\n",
      "Epoch 85/100\n",
      "12/12 [==============================] - 3s 294ms/step - loss: 1.1303e-04 - val_loss: 0.0118\n",
      "Epoch 86/100\n",
      "12/12 [==============================] - 4s 340ms/step - loss: 1.1572e-04 - val_loss: 0.0118\n",
      "Epoch 87/100\n",
      "12/12 [==============================] - 4s 321ms/step - loss: 1.1723e-04 - val_loss: 0.0108\n",
      "Epoch 88/100\n",
      "12/12 [==============================] - 4s 310ms/step - loss: 1.2783e-04 - val_loss: 0.0100\n",
      "Epoch 89/100\n",
      "12/12 [==============================] - 5s 404ms/step - loss: 1.1336e-04 - val_loss: 0.0096\n",
      "Epoch 90/100\n",
      "12/12 [==============================] - 4s 334ms/step - loss: 1.1166e-04 - val_loss: 0.0100\n",
      "Epoch 91/100\n",
      "12/12 [==============================] - 5s 383ms/step - loss: 1.1759e-04 - val_loss: 0.0099\n",
      "Epoch 92/100\n",
      "12/12 [==============================] - 4s 367ms/step - loss: 1.1202e-04 - val_loss: 0.0130\n",
      "Epoch 93/100\n",
      "12/12 [==============================] - 5s 393ms/step - loss: 1.2075e-04 - val_loss: 0.0082\n",
      "Epoch 94/100\n",
      "12/12 [==============================] - 5s 398ms/step - loss: 1.0945e-04 - val_loss: 0.0089\n",
      "Epoch 95/100\n",
      "12/12 [==============================] - 4s 343ms/step - loss: 1.0294e-04 - val_loss: 0.0091\n",
      "Epoch 96/100\n",
      "12/12 [==============================] - 4s 310ms/step - loss: 1.0943e-04 - val_loss: 0.0087\n",
      "Epoch 97/100\n",
      "12/12 [==============================] - 3s 293ms/step - loss: 1.0990e-04 - val_loss: 0.0078\n",
      "Epoch 98/100\n",
      "12/12 [==============================] - 4s 311ms/step - loss: 1.1007e-04 - val_loss: 0.0084\n",
      "Epoch 99/100\n",
      "12/12 [==============================] - 4s 321ms/step - loss: 1.0784e-04 - val_loss: 0.0071\n",
      "Epoch 100/100\n",
      "12/12 [==============================] - 3s 288ms/step - loss: 1.2296e-04 - val_loss: 0.0081\n"
     ]
    },
    {
     "data": {
      "text/plain": [
       "<tensorflow.python.keras.callbacks.History at 0x280df9b7bb0>"
      ]
     },
     "execution_count": 24,
     "metadata": {},
     "output_type": "execute_result"
    }
   ],
   "source": [
    "model.fit(X_train, y_train, validation_data = (X_test, ytest), epochs = 100, batch_size = 64, verbose = 1)"
   ]
  },
  {
   "cell_type": "code",
   "execution_count": 25,
   "id": "9253fec9",
   "metadata": {},
   "outputs": [],
   "source": [
    "import tensorflow as tf"
   ]
  },
  {
   "cell_type": "code",
   "execution_count": 26,
   "id": "060520f0",
   "metadata": {},
   "outputs": [],
   "source": [
    "# Lets do the prediction and check performance metrics\n",
    "train_predict = model.predict(X_train)\n",
    "test_predict = model.predict(X_test)"
   ]
  },
  {
   "cell_type": "code",
   "execution_count": 27,
   "id": "ec0638a1",
   "metadata": {},
   "outputs": [],
   "source": [
    "#transformback to original form\n",
    "train_predict = scaler.inverse_transform(train_predict)\n",
    "test_predict = scaler.inverse_transform(test_predict)"
   ]
  },
  {
   "cell_type": "code",
   "execution_count": 28,
   "id": "d1bce790",
   "metadata": {},
   "outputs": [
    {
     "data": {
      "text/plain": [
       "180.7418876060325"
      ]
     },
     "execution_count": 28,
     "metadata": {},
     "output_type": "execute_result"
    }
   ],
   "source": [
    "#calculate RMSE performance metrics \n",
    "import math\n",
    "from sklearn.metrics import mean_squared_error\n",
    "math.sqrt(mean_squared_error(y_train, train_predict))"
   ]
  },
  {
   "cell_type": "code",
   "execution_count": 29,
   "id": "6afe7c36",
   "metadata": {},
   "outputs": [
    {
     "data": {
      "text/plain": [
       "238.42010059659626"
      ]
     },
     "execution_count": 29,
     "metadata": {},
     "output_type": "execute_result"
    }
   ],
   "source": [
    "#test data RMSE\n",
    "math.sqrt(mean_squared_error(ytest, test_predict))"
   ]
  },
  {
   "cell_type": "code",
   "execution_count": 30,
   "id": "b8bb882a",
   "metadata": {},
   "outputs": [
    {
     "data": {
      "image/png": "[encoded data removed]",
      "text/plain": [
       "<Figure size 432x288 with 1 Axes>"
      ]
     },
     "metadata": {
      "needs_background": "light"
     },
     "output_type": "display_data"
    }
   ],
   "source": [
    "#Plotting\n",
    "#shift train predictions for plotting \n",
    "look_back = 100\n",
    "trainPredictplot = numpy.empty_like(df2)\n",
    "trainPredictplot[:, :] = np.nan\n",
    "trainPredictplot[look_back:len(train_predict)+look_back, :] = train_predict\n",
    "#shift test predictions for plotting\n",
    "testPredictPlot = numpy.empty_like(df2)\n",
    "testPredictPlot[:, :] = numpy.nan\n",
    "testPredictPlot[len(train_predict)+(look_back*2)+1:len(df2)-1, :] = test_predict\n",
    "#plot baseline and predictions\n",
    "plt.plot(scaler.inverse_transform(df2))\n",
    "plt.plot(trainPredictplot)\n",
    "plt.plot(testPredictPlot)\n",
    "plt.show()"
   ]
  },
  {
   "cell_type": "code",
   "execution_count": 31,
   "id": "65f596ec",
   "metadata": {},
   "outputs": [
    {
     "data": {
      "text/plain": [
       "440"
      ]
     },
     "execution_count": 31,
     "metadata": {},
     "output_type": "execute_result"
    }
   ],
   "source": [
    "len(test_data)"
   ]
  },
  {
   "cell_type": "markdown",
   "id": "9f85666f",
   "metadata": {},
   "source": [
    "orange color line is train_predict data and green color line is test_predict data"
   ]
  },
  {
   "cell_type": "code",
   "execution_count": 32,
   "id": "298968bf",
   "metadata": {},
   "outputs": [
    {
     "data": {
      "text/plain": [
       "(1, 100)"
      ]
     },
     "execution_count": 32,
     "metadata": {},
     "output_type": "execute_result"
    }
   ],
   "source": [
    "#No we have to predict future 30 days\n",
    "\n",
    "x_input = test_data[340:].reshape(1,-1)  # I am taking previous 100 days data from 440 to 340\n",
    "x_input.shape"
   ]
  },
  {
   "cell_type": "code",
   "execution_count": 34,
   "id": "2de6f192",
   "metadata": {},
   "outputs": [],
   "source": [
    "temp_input = list(x_input)\n",
    "temp_input = temp_input[0].tolist()"
   ]
  },
  {
   "cell_type": "code",
   "execution_count": 35,
   "id": "89f58192",
   "metadata": {},
   "outputs": [
    {
     "data": {
      "text/plain": [
       "[0.04184038117927341,\n",
       " 0.05027794322017076,\n",
       " 0.048168552709946466,\n",
       " 0.0420885447687116,\n",
       " 0.043329362715902375,\n",
       " 0.044867976970418944,\n",
       " 0.045314671431407605,\n",
       " 0.04161703394877908,\n",
       " 0.047200714711137626,\n",
       " 0.04931010522136198,\n",
       " 0.05650684931506855,\n",
       " 0.05727615644232681,\n",
       " 0.06147012110383171,\n",
       " 0.06757494540401038,\n",
       " 0.0741140559857058,\n",
       " 0.06975878499106619,\n",
       " 0.07767520349414342,\n",
       " 0.07171927734762762,\n",
       " 0.07784891800675009,\n",
       " 0.07700516180266037,\n",
       " 0.07869267421083981,\n",
       " 0.07439944411355975,\n",
       " 0.07536728211236854,\n",
       " 0.07149593011713323,\n",
       " 0.07740222354576137,\n",
       " 0.07839487790351402,\n",
       " 0.0775759380583681,\n",
       " 0.07556581298391907,\n",
       " 0.07531764939448088,\n",
       " 0.07030474488783012,\n",
       " 0.0729849116537622,\n",
       " 0.06134603930911259,\n",
       " 0.061966448282707975,\n",
       " 0.06603633114949381,\n",
       " 0.06720270001985312,\n",
       " 0.05886440341473104,\n",
       " 0.056531665674012355,\n",
       " 0.048739328965654194,\n",
       " 0.05419892793329367,\n",
       " 0.06035338495136,\n",
       " 0.05742505459598973,\n",
       " 0.05390113162596788,\n",
       " 0.05350406988286682,\n",
       " 0.06000595592614655,\n",
       " 0.055340480444709184,\n",
       " 0.059484812388326425,\n",
       " 0.0589884852094501,\n",
       " 0.05886440341473104,\n",
       " 0.054968235060551984,\n",
       " 0.053305539011316294,\n",
       " 0.05248659916617038,\n",
       " 0.054422275163788,\n",
       " 0.05065018860432802,\n",
       " 0.056482032956124695,\n",
       " 0.05650684931506855,\n",
       " 0.058591423466349046,\n",
       " 0.05955926146515789,\n",
       " 0.057027992852888676,\n",
       " 0.06010522136192181,\n",
       " 0.06787274171133612,\n",
       " 0.06578816756005562,\n",
       " 0.06705380186619025,\n",
       " 0.07112368473297598,\n",
       " 0.06782310899344857,\n",
       " 0.07238931903911067,\n",
       " 0.07655846734167165,\n",
       " 0.0758636092912448,\n",
       " 0.07514393488187415,\n",
       " 0.07439944411355975,\n",
       " 0.07854377605717694,\n",
       " 0.08239031169346839,\n",
       " 0.08395374230692881,\n",
       " 0.08472304943418707,\n",
       " 0.09139864999007352,\n",
       " 0.09651081993249955,\n",
       " 0.10283899146317255,\n",
       " 0.09953841572364508,\n",
       " 0.10417907484613864,\n",
       " 0.10266527695056588,\n",
       " 0.10549434187016082,\n",
       " 0.11420488385944022,\n",
       " 0.11254218781020453,\n",
       " 0.10735556879094699,\n",
       " 0.0975779233670836,\n",
       " 0.10675997617629546,\n",
       " 0.1048987492555093,\n",
       " 0.10837303950764349,\n",
       " 0.11274071868175506,\n",
       " 0.11380782211633916,\n",
       " 0.10829859043081208,\n",
       " 0.10385646217986899,\n",
       " 0.10549434187016082,\n",
       " 0.1060403017669248,\n",
       " 0.10519654556283509,\n",
       " 0.10976275560849719,\n",
       " 0.10874528489180069,\n",
       " 0.10901826484018268,\n",
       " 0.1067351598173516,\n",
       " 0.10661107802263259,\n",
       " 0.10539507643438556]"
      ]
     },
     "execution_count": 35,
     "metadata": {},
     "output_type": "execute_result"
    }
   ],
   "source": [
    "temp_input"
   ]
  },
  {
   "cell_type": "code",
   "execution_count": 36,
   "id": "37bff02f",
   "metadata": {},
   "outputs": [
    {
     "name": "stdout",
     "output_type": "stream",
     "text": [
      "0 day input [0.05027794 0.04816855 0.04208854 0.04332936 0.04486798 0.04531467\n",
      " 0.04161703 0.04720071 0.04931011 0.05650685 0.05727616 0.06147012\n",
      " 0.06757495 0.07411406 0.06975878 0.0776752  0.07171928 0.07784892\n",
      " 0.07700516 0.07869267 0.07439944 0.07536728 0.07149593 0.07740222\n",
      " 0.07839488 0.07757594 0.07556581 0.07531765 0.07030474 0.07298491\n",
      " 0.06134604 0.06196645 0.06603633 0.0672027  0.0588644  0.05653167\n",
      " 0.04873933 0.05419893 0.06035338 0.05742505 0.05390113 0.05350407\n",
      " 0.06000596 0.05534048 0.05948481 0.05898849 0.0588644  0.05496824\n",
      " 0.05330554 0.0524866  0.05442228 0.05065019 0.05648203 0.05650685\n",
      " 0.05859142 0.05955926 0.05702799 0.06010522 0.06787274 0.06578817\n",
      " 0.0670538  0.07112368 0.06782311 0.07238932 0.07655847 0.07586361\n",
      " 0.07514393 0.07439944 0.07854378 0.08239031 0.08395374 0.08472305\n",
      " 0.09139865 0.09651082 0.10283899 0.09953842 0.10417907 0.10266528\n",
      " 0.10549434 0.11420488 0.11254219 0.10735557 0.09757792 0.10675998\n",
      " 0.10489875 0.10837304 0.11274072 0.11380782 0.10829859 0.10385646\n",
      " 0.10549434 0.1060403  0.10519655 0.10976276 0.10874528 0.10901826\n",
      " 0.10673516 0.10661108 0.10539508]\n",
      "WARNING:tensorflow:Model was constructed with shape (None, 100, 1) for input KerasTensor(type_spec=TensorSpec(shape=(None, 100, 1), dtype=tf.float32, name='lstm_input'), name='lstm_input', description=\"created by layer 'lstm_input'\"), but it was called on an input with incompatible shape (None, 99, 1).\n",
      "0 day output [[0.11163047]]\n",
      "1 day input [0.04816855 0.04208854 0.04332936 0.04486798 0.04531467 0.04161703\n",
      " 0.04720071 0.04931011 0.05650685 0.05727616 0.06147012 0.06757495\n",
      " 0.07411406 0.06975878 0.0776752  0.07171928 0.07784892 0.07700516\n",
      " 0.07869267 0.07439944 0.07536728 0.07149593 0.07740222 0.07839488\n",
      " 0.07757594 0.07556581 0.07531765 0.07030474 0.07298491 0.06134604\n",
      " 0.06196645 0.06603633 0.0672027  0.0588644  0.05653167 0.04873933\n",
      " 0.05419893 0.06035338 0.05742505 0.05390113 0.05350407 0.06000596\n",
      " 0.05534048 0.05948481 0.05898849 0.0588644  0.05496824 0.05330554\n",
      " 0.0524866  0.05442228 0.05065019 0.05648203 0.05650685 0.05859142\n",
      " 0.05955926 0.05702799 0.06010522 0.06787274 0.06578817 0.0670538\n",
      " 0.07112368 0.06782311 0.07238932 0.07655847 0.07586361 0.07514393\n",
      " 0.07439944 0.07854378 0.08239031 0.08395374 0.08472305 0.09139865\n",
      " 0.09651082 0.10283899 0.09953842 0.10417907 0.10266528 0.10549434\n",
      " 0.11420488 0.11254219 0.10735557 0.09757792 0.10675998 0.10489875\n",
      " 0.10837304 0.11274072 0.11380782 0.10829859 0.10385646 0.10549434\n",
      " 0.1060403  0.10519655 0.10976276 0.10874528 0.10901826 0.10673516\n",
      " 0.10661108 0.10539508 0.11163047]\n",
      "1 day output [[0.11184355]]\n",
      "2 day input [0.04208854 0.04332936 0.04486798 0.04531467 0.04161703 0.04720071\n",
      " 0.04931011 0.05650685 0.05727616 0.06147012 0.06757495 0.07411406\n",
      " 0.06975878 0.0776752  0.07171928 0.07784892 0.07700516 0.07869267\n",
      " 0.07439944 0.07536728 0.07149593 0.07740222 0.07839488 0.07757594\n",
      " 0.07556581 0.07531765 0.07030474 0.07298491 0.06134604 0.06196645\n",
      " 0.06603633 0.0672027  0.0588644  0.05653167 0.04873933 0.05419893\n",
      " 0.06035338 0.05742505 0.05390113 0.05350407 0.06000596 0.05534048\n",
      " 0.05948481 0.05898849 0.0588644  0.05496824 0.05330554 0.0524866\n",
      " 0.05442228 0.05065019 0.05648203 0.05650685 0.05859142 0.05955926\n",
      " 0.05702799 0.06010522 0.06787274 0.06578817 0.0670538  0.07112368\n",
      " 0.06782311 0.07238932 0.07655847 0.07586361 0.07514393 0.07439944\n",
      " 0.07854378 0.08239031 0.08395374 0.08472305 0.09139865 0.09651082\n",
      " 0.10283899 0.09953842 0.10417907 0.10266528 0.10549434 0.11420488\n",
      " 0.11254219 0.10735557 0.09757792 0.10675998 0.10489875 0.10837304\n",
      " 0.11274072 0.11380782 0.10829859 0.10385646 0.10549434 0.1060403\n",
      " 0.10519655 0.10976276 0.10874528 0.10901826 0.10673516 0.10661108\n",
      " 0.10539508 0.11163047 0.11184355]\n",
      "2 day output [[0.11262681]]\n",
      "3 day input [0.04332936 0.04486798 0.04531467 0.04161703 0.04720071 0.04931011\n",
      " 0.05650685 0.05727616 0.06147012 0.06757495 0.07411406 0.06975878\n",
      " 0.0776752  0.07171928 0.07784892 0.07700516 0.07869267 0.07439944\n",
      " 0.07536728 0.07149593 0.07740222 0.07839488 0.07757594 0.07556581\n",
      " 0.07531765 0.07030474 0.07298491 0.06134604 0.06196645 0.06603633\n",
      " 0.0672027  0.0588644  0.05653167 0.04873933 0.05419893 0.06035338\n",
      " 0.05742505 0.05390113 0.05350407 0.06000596 0.05534048 0.05948481\n",
      " 0.05898849 0.0588644  0.05496824 0.05330554 0.0524866  0.05442228\n",
      " 0.05065019 0.05648203 0.05650685 0.05859142 0.05955926 0.05702799\n",
      " 0.06010522 0.06787274 0.06578817 0.0670538  0.07112368 0.06782311\n",
      " 0.07238932 0.07655847 0.07586361 0.07514393 0.07439944 0.07854378\n",
      " 0.08239031 0.08395374 0.08472305 0.09139865 0.09651082 0.10283899\n",
      " 0.09953842 0.10417907 0.10266528 0.10549434 0.11420488 0.11254219\n",
      " 0.10735557 0.09757792 0.10675998 0.10489875 0.10837304 0.11274072\n",
      " 0.11380782 0.10829859 0.10385646 0.10549434 0.1060403  0.10519655\n",
      " 0.10976276 0.10874528 0.10901826 0.10673516 0.10661108 0.10539508\n",
      " 0.11163047 0.11184355 0.11262681]\n",
      "3 day output [[0.11373936]]\n",
      "4 day input [0.04486798 0.04531467 0.04161703 0.04720071 0.04931011 0.05650685\n",
      " 0.05727616 0.06147012 0.06757495 0.07411406 0.06975878 0.0776752\n",
      " 0.07171928 0.07784892 0.07700516 0.07869267 0.07439944 0.07536728\n",
      " 0.07149593 0.07740222 0.07839488 0.07757594 0.07556581 0.07531765\n",
      " 0.07030474 0.07298491 0.06134604 0.06196645 0.06603633 0.0672027\n",
      " 0.0588644  0.05653167 0.04873933 0.05419893 0.06035338 0.05742505\n",
      " 0.05390113 0.05350407 0.06000596 0.05534048 0.05948481 0.05898849\n",
      " 0.0588644  0.05496824 0.05330554 0.0524866  0.05442228 0.05065019\n",
      " 0.05648203 0.05650685 0.05859142 0.05955926 0.05702799 0.06010522\n",
      " 0.06787274 0.06578817 0.0670538  0.07112368 0.06782311 0.07238932\n",
      " 0.07655847 0.07586361 0.07514393 0.07439944 0.07854378 0.08239031\n",
      " 0.08395374 0.08472305 0.09139865 0.09651082 0.10283899 0.09953842\n",
      " 0.10417907 0.10266528 0.10549434 0.11420488 0.11254219 0.10735557\n",
      " 0.09757792 0.10675998 0.10489875 0.10837304 0.11274072 0.11380782\n",
      " 0.10829859 0.10385646 0.10549434 0.1060403  0.10519655 0.10976276\n",
      " 0.10874528 0.10901826 0.10673516 0.10661108 0.10539508 0.11163047\n",
      " 0.11184355 0.11262681 0.11373936]\n",
      "4 day output [[0.11497672]]\n",
      "5 day input [0.04531467 0.04161703 0.04720071 0.04931011 0.05650685 0.05727616\n",
      " 0.06147012 0.06757495 0.07411406 0.06975878 0.0776752  0.07171928\n",
      " 0.07784892 0.07700516 0.07869267 0.07439944 0.07536728 0.07149593\n",
      " 0.07740222 0.07839488 0.07757594 0.07556581 0.07531765 0.07030474\n",
      " 0.07298491 0.06134604 0.06196645 0.06603633 0.0672027  0.0588644\n",
      " 0.05653167 0.04873933 0.05419893 0.06035338 0.05742505 0.05390113\n",
      " 0.05350407 0.06000596 0.05534048 0.05948481 0.05898849 0.0588644\n",
      " 0.05496824 0.05330554 0.0524866  0.05442228 0.05065019 0.05648203\n",
      " 0.05650685 0.05859142 0.05955926 0.05702799 0.06010522 0.06787274\n",
      " 0.06578817 0.0670538  0.07112368 0.06782311 0.07238932 0.07655847\n",
      " 0.07586361 0.07514393 0.07439944 0.07854378 0.08239031 0.08395374\n",
      " 0.08472305 0.09139865 0.09651082 0.10283899 0.09953842 0.10417907\n",
      " 0.10266528 0.10549434 0.11420488 0.11254219 0.10735557 0.09757792\n",
      " 0.10675998 0.10489875 0.10837304 0.11274072 0.11380782 0.10829859\n",
      " 0.10385646 0.10549434 0.1060403  0.10519655 0.10976276 0.10874528\n",
      " 0.10901826 0.10673516 0.10661108 0.10539508 0.11163047 0.11184355\n",
      " 0.11262681 0.11373936 0.11497672]\n",
      "5 day output [[0.11621973]]\n",
      "6 day input [0.04161703 0.04720071 0.04931011 0.05650685 0.05727616 0.06147012\n",
      " 0.06757495 0.07411406 0.06975878 0.0776752  0.07171928 0.07784892\n",
      " 0.07700516 0.07869267 0.07439944 0.07536728 0.07149593 0.07740222\n",
      " 0.07839488 0.07757594 0.07556581 0.07531765 0.07030474 0.07298491\n",
      " 0.06134604 0.06196645 0.06603633 0.0672027  0.0588644  0.05653167\n",
      " 0.04873933 0.05419893 0.06035338 0.05742505 0.05390113 0.05350407\n",
      " 0.06000596 0.05534048 0.05948481 0.05898849 0.0588644  0.05496824\n",
      " 0.05330554 0.0524866  0.05442228 0.05065019 0.05648203 0.05650685\n",
      " 0.05859142 0.05955926 0.05702799 0.06010522 0.06787274 0.06578817\n",
      " 0.0670538  0.07112368 0.06782311 0.07238932 0.07655847 0.07586361\n",
      " 0.07514393 0.07439944 0.07854378 0.08239031 0.08395374 0.08472305\n",
      " 0.09139865 0.09651082 0.10283899 0.09953842 0.10417907 0.10266528\n",
      " 0.10549434 0.11420488 0.11254219 0.10735557 0.09757792 0.10675998\n",
      " 0.10489875 0.10837304 0.11274072 0.11380782 0.10829859 0.10385646\n",
      " 0.10549434 0.1060403  0.10519655 0.10976276 0.10874528 0.10901826\n",
      " 0.10673516 0.10661108 0.10539508 0.11163047 0.11184355 0.11262681\n",
      " 0.11373936 0.11497672 0.11621973]\n"
     ]
    },
    {
     "name": "stdout",
     "output_type": "stream",
     "text": [
      "6 day output [[0.11741421]]\n",
      "7 day input [0.04720071 0.04931011 0.05650685 0.05727616 0.06147012 0.06757495\n",
      " 0.07411406 0.06975878 0.0776752  0.07171928 0.07784892 0.07700516\n",
      " 0.07869267 0.07439944 0.07536728 0.07149593 0.07740222 0.07839488\n",
      " 0.07757594 0.07556581 0.07531765 0.07030474 0.07298491 0.06134604\n",
      " 0.06196645 0.06603633 0.0672027  0.0588644  0.05653167 0.04873933\n",
      " 0.05419893 0.06035338 0.05742505 0.05390113 0.05350407 0.06000596\n",
      " 0.05534048 0.05948481 0.05898849 0.0588644  0.05496824 0.05330554\n",
      " 0.0524866  0.05442228 0.05065019 0.05648203 0.05650685 0.05859142\n",
      " 0.05955926 0.05702799 0.06010522 0.06787274 0.06578817 0.0670538\n",
      " 0.07112368 0.06782311 0.07238932 0.07655847 0.07586361 0.07514393\n",
      " 0.07439944 0.07854378 0.08239031 0.08395374 0.08472305 0.09139865\n",
      " 0.09651082 0.10283899 0.09953842 0.10417907 0.10266528 0.10549434\n",
      " 0.11420488 0.11254219 0.10735557 0.09757792 0.10675998 0.10489875\n",
      " 0.10837304 0.11274072 0.11380782 0.10829859 0.10385646 0.10549434\n",
      " 0.1060403  0.10519655 0.10976276 0.10874528 0.10901826 0.10673516\n",
      " 0.10661108 0.10539508 0.11163047 0.11184355 0.11262681 0.11373936\n",
      " 0.11497672 0.11621973 0.11741421]\n",
      "7 day output [[0.11854201]]\n",
      "8 day input [0.04931011 0.05650685 0.05727616 0.06147012 0.06757495 0.07411406\n",
      " 0.06975878 0.0776752  0.07171928 0.07784892 0.07700516 0.07869267\n",
      " 0.07439944 0.07536728 0.07149593 0.07740222 0.07839488 0.07757594\n",
      " 0.07556581 0.07531765 0.07030474 0.07298491 0.06134604 0.06196645\n",
      " 0.06603633 0.0672027  0.0588644  0.05653167 0.04873933 0.05419893\n",
      " 0.06035338 0.05742505 0.05390113 0.05350407 0.06000596 0.05534048\n",
      " 0.05948481 0.05898849 0.0588644  0.05496824 0.05330554 0.0524866\n",
      " 0.05442228 0.05065019 0.05648203 0.05650685 0.05859142 0.05955926\n",
      " 0.05702799 0.06010522 0.06787274 0.06578817 0.0670538  0.07112368\n",
      " 0.06782311 0.07238932 0.07655847 0.07586361 0.07514393 0.07439944\n",
      " 0.07854378 0.08239031 0.08395374 0.08472305 0.09139865 0.09651082\n",
      " 0.10283899 0.09953842 0.10417907 0.10266528 0.10549434 0.11420488\n",
      " 0.11254219 0.10735557 0.09757792 0.10675998 0.10489875 0.10837304\n",
      " 0.11274072 0.11380782 0.10829859 0.10385646 0.10549434 0.1060403\n",
      " 0.10519655 0.10976276 0.10874528 0.10901826 0.10673516 0.10661108\n",
      " 0.10539508 0.11163047 0.11184355 0.11262681 0.11373936 0.11497672\n",
      " 0.11621973 0.11741421 0.11854201]\n",
      "8 day output [[0.11960187]]\n",
      "9 day input [0.05650685 0.05727616 0.06147012 0.06757495 0.07411406 0.06975878\n",
      " 0.0776752  0.07171928 0.07784892 0.07700516 0.07869267 0.07439944\n",
      " 0.07536728 0.07149593 0.07740222 0.07839488 0.07757594 0.07556581\n",
      " 0.07531765 0.07030474 0.07298491 0.06134604 0.06196645 0.06603633\n",
      " 0.0672027  0.0588644  0.05653167 0.04873933 0.05419893 0.06035338\n",
      " 0.05742505 0.05390113 0.05350407 0.06000596 0.05534048 0.05948481\n",
      " 0.05898849 0.0588644  0.05496824 0.05330554 0.0524866  0.05442228\n",
      " 0.05065019 0.05648203 0.05650685 0.05859142 0.05955926 0.05702799\n",
      " 0.06010522 0.06787274 0.06578817 0.0670538  0.07112368 0.06782311\n",
      " 0.07238932 0.07655847 0.07586361 0.07514393 0.07439944 0.07854378\n",
      " 0.08239031 0.08395374 0.08472305 0.09139865 0.09651082 0.10283899\n",
      " 0.09953842 0.10417907 0.10266528 0.10549434 0.11420488 0.11254219\n",
      " 0.10735557 0.09757792 0.10675998 0.10489875 0.10837304 0.11274072\n",
      " 0.11380782 0.10829859 0.10385646 0.10549434 0.1060403  0.10519655\n",
      " 0.10976276 0.10874528 0.10901826 0.10673516 0.10661108 0.10539508\n",
      " 0.11163047 0.11184355 0.11262681 0.11373936 0.11497672 0.11621973\n",
      " 0.11741421 0.11854201 0.11960187]\n",
      "9 day output [[0.12059956]]\n",
      "10 day input [0.05727616 0.06147012 0.06757495 0.07411406 0.06975878 0.0776752\n",
      " 0.07171928 0.07784892 0.07700516 0.07869267 0.07439944 0.07536728\n",
      " 0.07149593 0.07740222 0.07839488 0.07757594 0.07556581 0.07531765\n",
      " 0.07030474 0.07298491 0.06134604 0.06196645 0.06603633 0.0672027\n",
      " 0.0588644  0.05653167 0.04873933 0.05419893 0.06035338 0.05742505\n",
      " 0.05390113 0.05350407 0.06000596 0.05534048 0.05948481 0.05898849\n",
      " 0.0588644  0.05496824 0.05330554 0.0524866  0.05442228 0.05065019\n",
      " 0.05648203 0.05650685 0.05859142 0.05955926 0.05702799 0.06010522\n",
      " 0.06787274 0.06578817 0.0670538  0.07112368 0.06782311 0.07238932\n",
      " 0.07655847 0.07586361 0.07514393 0.07439944 0.07854378 0.08239031\n",
      " 0.08395374 0.08472305 0.09139865 0.09651082 0.10283899 0.09953842\n",
      " 0.10417907 0.10266528 0.10549434 0.11420488 0.11254219 0.10735557\n",
      " 0.09757792 0.10675998 0.10489875 0.10837304 0.11274072 0.11380782\n",
      " 0.10829859 0.10385646 0.10549434 0.1060403  0.10519655 0.10976276\n",
      " 0.10874528 0.10901826 0.10673516 0.10661108 0.10539508 0.11163047\n",
      " 0.11184355 0.11262681 0.11373936 0.11497672 0.11621973 0.11741421\n",
      " 0.11854201 0.11960187 0.12059956]\n",
      "10 day output [[0.12154368]]\n",
      "11 day input [0.06147012 0.06757495 0.07411406 0.06975878 0.0776752  0.07171928\n",
      " 0.07784892 0.07700516 0.07869267 0.07439944 0.07536728 0.07149593\n",
      " 0.07740222 0.07839488 0.07757594 0.07556581 0.07531765 0.07030474\n",
      " 0.07298491 0.06134604 0.06196645 0.06603633 0.0672027  0.0588644\n",
      " 0.05653167 0.04873933 0.05419893 0.06035338 0.05742505 0.05390113\n",
      " 0.05350407 0.06000596 0.05534048 0.05948481 0.05898849 0.0588644\n",
      " 0.05496824 0.05330554 0.0524866  0.05442228 0.05065019 0.05648203\n",
      " 0.05650685 0.05859142 0.05955926 0.05702799 0.06010522 0.06787274\n",
      " 0.06578817 0.0670538  0.07112368 0.06782311 0.07238932 0.07655847\n",
      " 0.07586361 0.07514393 0.07439944 0.07854378 0.08239031 0.08395374\n",
      " 0.08472305 0.09139865 0.09651082 0.10283899 0.09953842 0.10417907\n",
      " 0.10266528 0.10549434 0.11420488 0.11254219 0.10735557 0.09757792\n",
      " 0.10675998 0.10489875 0.10837304 0.11274072 0.11380782 0.10829859\n",
      " 0.10385646 0.10549434 0.1060403  0.10519655 0.10976276 0.10874528\n",
      " 0.10901826 0.10673516 0.10661108 0.10539508 0.11163047 0.11184355\n",
      " 0.11262681 0.11373936 0.11497672 0.11621973 0.11741421 0.11854201\n",
      " 0.11960187 0.12059956 0.12154368]\n",
      "11 day output [[0.12244412]]\n",
      "12 day input [0.06757495 0.07411406 0.06975878 0.0776752  0.07171928 0.07784892\n",
      " 0.07700516 0.07869267 0.07439944 0.07536728 0.07149593 0.07740222\n",
      " 0.07839488 0.07757594 0.07556581 0.07531765 0.07030474 0.07298491\n",
      " 0.06134604 0.06196645 0.06603633 0.0672027  0.0588644  0.05653167\n",
      " 0.04873933 0.05419893 0.06035338 0.05742505 0.05390113 0.05350407\n",
      " 0.06000596 0.05534048 0.05948481 0.05898849 0.0588644  0.05496824\n",
      " 0.05330554 0.0524866  0.05442228 0.05065019 0.05648203 0.05650685\n",
      " 0.05859142 0.05955926 0.05702799 0.06010522 0.06787274 0.06578817\n",
      " 0.0670538  0.07112368 0.06782311 0.07238932 0.07655847 0.07586361\n",
      " 0.07514393 0.07439944 0.07854378 0.08239031 0.08395374 0.08472305\n",
      " 0.09139865 0.09651082 0.10283899 0.09953842 0.10417907 0.10266528\n",
      " 0.10549434 0.11420488 0.11254219 0.10735557 0.09757792 0.10675998\n",
      " 0.10489875 0.10837304 0.11274072 0.11380782 0.10829859 0.10385646\n",
      " 0.10549434 0.1060403  0.10519655 0.10976276 0.10874528 0.10901826\n",
      " 0.10673516 0.10661108 0.10539508 0.11163047 0.11184355 0.11262681\n",
      " 0.11373936 0.11497672 0.11621973 0.11741421 0.11854201 0.11960187\n",
      " 0.12059956 0.12154368 0.12244412]\n",
      "12 day output [[0.12331103]]\n",
      "13 day input [0.07411406 0.06975878 0.0776752  0.07171928 0.07784892 0.07700516\n",
      " 0.07869267 0.07439944 0.07536728 0.07149593 0.07740222 0.07839488\n",
      " 0.07757594 0.07556581 0.07531765 0.07030474 0.07298491 0.06134604\n",
      " 0.06196645 0.06603633 0.0672027  0.0588644  0.05653167 0.04873933\n",
      " 0.05419893 0.06035338 0.05742505 0.05390113 0.05350407 0.06000596\n",
      " 0.05534048 0.05948481 0.05898849 0.0588644  0.05496824 0.05330554\n",
      " 0.0524866  0.05442228 0.05065019 0.05648203 0.05650685 0.05859142\n",
      " 0.05955926 0.05702799 0.06010522 0.06787274 0.06578817 0.0670538\n",
      " 0.07112368 0.06782311 0.07238932 0.07655847 0.07586361 0.07514393\n",
      " 0.07439944 0.07854378 0.08239031 0.08395374 0.08472305 0.09139865\n",
      " 0.09651082 0.10283899 0.09953842 0.10417907 0.10266528 0.10549434\n",
      " 0.11420488 0.11254219 0.10735557 0.09757792 0.10675998 0.10489875\n",
      " 0.10837304 0.11274072 0.11380782 0.10829859 0.10385646 0.10549434\n",
      " 0.1060403  0.10519655 0.10976276 0.10874528 0.10901826 0.10673516\n",
      " 0.10661108 0.10539508 0.11163047 0.11184355 0.11262681 0.11373936\n",
      " 0.11497672 0.11621973 0.11741421 0.11854201 0.11960187 0.12059956\n",
      " 0.12154368 0.12244412 0.12331103]\n",
      "13 day output [[0.12415449]]\n",
      "14 day input [0.06975878 0.0776752  0.07171928 0.07784892 0.07700516 0.07869267\n",
      " 0.07439944 0.07536728 0.07149593 0.07740222 0.07839488 0.07757594\n",
      " 0.07556581 0.07531765 0.07030474 0.07298491 0.06134604 0.06196645\n",
      " 0.06603633 0.0672027  0.0588644  0.05653167 0.04873933 0.05419893\n",
      " 0.06035338 0.05742505 0.05390113 0.05350407 0.06000596 0.05534048\n",
      " 0.05948481 0.05898849 0.0588644  0.05496824 0.05330554 0.0524866\n",
      " 0.05442228 0.05065019 0.05648203 0.05650685 0.05859142 0.05955926\n",
      " 0.05702799 0.06010522 0.06787274 0.06578817 0.0670538  0.07112368\n",
      " 0.06782311 0.07238932 0.07655847 0.07586361 0.07514393 0.07439944\n",
      " 0.07854378 0.08239031 0.08395374 0.08472305 0.09139865 0.09651082\n",
      " 0.10283899 0.09953842 0.10417907 0.10266528 0.10549434 0.11420488\n",
      " 0.11254219 0.10735557 0.09757792 0.10675998 0.10489875 0.10837304\n",
      " 0.11274072 0.11380782 0.10829859 0.10385646 0.10549434 0.1060403\n",
      " 0.10519655 0.10976276 0.10874528 0.10901826 0.10673516 0.10661108\n",
      " 0.10539508 0.11163047 0.11184355 0.11262681 0.11373936 0.11497672\n",
      " 0.11621973 0.11741421 0.11854201 0.11960187 0.12059956 0.12154368\n",
      " 0.12244412 0.12331103 0.12415449]\n",
      "14 day output [[0.12498382]]\n",
      "15 day input [0.0776752  0.07171928 0.07784892 0.07700516 0.07869267 0.07439944\n",
      " 0.07536728 0.07149593 0.07740222 0.07839488 0.07757594 0.07556581\n",
      " 0.07531765 0.07030474 0.07298491 0.06134604 0.06196645 0.06603633\n",
      " 0.0672027  0.0588644  0.05653167 0.04873933 0.05419893 0.06035338\n",
      " 0.05742505 0.05390113 0.05350407 0.06000596 0.05534048 0.05948481\n",
      " 0.05898849 0.0588644  0.05496824 0.05330554 0.0524866  0.05442228\n",
      " 0.05065019 0.05648203 0.05650685 0.05859142 0.05955926 0.05702799\n",
      " 0.06010522 0.06787274 0.06578817 0.0670538  0.07112368 0.06782311\n",
      " 0.07238932 0.07655847 0.07586361 0.07514393 0.07439944 0.07854378\n",
      " 0.08239031 0.08395374 0.08472305 0.09139865 0.09651082 0.10283899\n",
      " 0.09953842 0.10417907 0.10266528 0.10549434 0.11420488 0.11254219\n",
      " 0.10735557 0.09757792 0.10675998 0.10489875 0.10837304 0.11274072\n",
      " 0.11380782 0.10829859 0.10385646 0.10549434 0.1060403  0.10519655\n",
      " 0.10976276 0.10874528 0.10901826 0.10673516 0.10661108 0.10539508\n",
      " 0.11163047 0.11184355 0.11262681 0.11373936 0.11497672 0.11621973\n",
      " 0.11741421 0.11854201 0.11960187 0.12059956 0.12154368 0.12244412\n",
      " 0.12331103 0.12415449 0.12498382]\n",
      "15 day output [[0.12580702]]\n",
      "16 day input [0.07171928 0.07784892 0.07700516 0.07869267 0.07439944 0.07536728\n",
      " 0.07149593 0.07740222 0.07839488 0.07757594 0.07556581 0.07531765\n",
      " 0.07030474 0.07298491 0.06134604 0.06196645 0.06603633 0.0672027\n",
      " 0.0588644  0.05653167 0.04873933 0.05419893 0.06035338 0.05742505\n",
      " 0.05390113 0.05350407 0.06000596 0.05534048 0.05948481 0.05898849\n",
      " 0.0588644  0.05496824 0.05330554 0.0524866  0.05442228 0.05065019\n",
      " 0.05648203 0.05650685 0.05859142 0.05955926 0.05702799 0.06010522\n",
      " 0.06787274 0.06578817 0.0670538  0.07112368 0.06782311 0.07238932\n",
      " 0.07655847 0.07586361 0.07514393 0.07439944 0.07854378 0.08239031\n",
      " 0.08395374 0.08472305 0.09139865 0.09651082 0.10283899 0.09953842\n",
      " 0.10417907 0.10266528 0.10549434 0.11420488 0.11254219 0.10735557\n",
      " 0.09757792 0.10675998 0.10489875 0.10837304 0.11274072 0.11380782\n",
      " 0.10829859 0.10385646 0.10549434 0.1060403  0.10519655 0.10976276\n",
      " 0.10874528 0.10901826 0.10673516 0.10661108 0.10539508 0.11163047\n",
      " 0.11184355 0.11262681 0.11373936 0.11497672 0.11621973 0.11741421\n",
      " 0.11854201 0.11960187 0.12059956 0.12154368 0.12244412 0.12331103\n",
      " 0.12415449 0.12498382 0.12580702]\n",
      "16 day output [[0.12663056]]\n",
      "17 day input [0.07784892 0.07700516 0.07869267 0.07439944 0.07536728 0.07149593\n",
      " 0.07740222 0.07839488 0.07757594 0.07556581 0.07531765 0.07030474\n",
      " 0.07298491 0.06134604 0.06196645 0.06603633 0.0672027  0.0588644\n",
      " 0.05653167 0.04873933 0.05419893 0.06035338 0.05742505 0.05390113\n",
      " 0.05350407 0.06000596 0.05534048 0.05948481 0.05898849 0.0588644\n",
      " 0.05496824 0.05330554 0.0524866  0.05442228 0.05065019 0.05648203\n",
      " 0.05650685 0.05859142 0.05955926 0.05702799 0.06010522 0.06787274\n",
      " 0.06578817 0.0670538  0.07112368 0.06782311 0.07238932 0.07655847\n",
      " 0.07586361 0.07514393 0.07439944 0.07854378 0.08239031 0.08395374\n",
      " 0.08472305 0.09139865 0.09651082 0.10283899 0.09953842 0.10417907\n",
      " 0.10266528 0.10549434 0.11420488 0.11254219 0.10735557 0.09757792\n",
      " 0.10675998 0.10489875 0.10837304 0.11274072 0.11380782 0.10829859\n",
      " 0.10385646 0.10549434 0.1060403  0.10519655 0.10976276 0.10874528\n",
      " 0.10901826 0.10673516 0.10661108 0.10539508 0.11163047 0.11184355\n",
      " 0.11262681 0.11373936 0.11497672 0.11621973 0.11741421 0.11854201\n",
      " 0.11960187 0.12059956 0.12154368 0.12244412 0.12331103 0.12415449\n",
      " 0.12498382 0.12580702 0.12663056]\n",
      "17 day output [[0.12745932]]\n",
      "18 day input [0.07700516 0.07869267 0.07439944 0.07536728 0.07149593 0.07740222\n",
      " 0.07839488 0.07757594 0.07556581 0.07531765 0.07030474 0.07298491\n",
      " 0.06134604 0.06196645 0.06603633 0.0672027  0.0588644  0.05653167\n",
      " 0.04873933 0.05419893 0.06035338 0.05742505 0.05390113 0.05350407\n",
      " 0.06000596 0.05534048 0.05948481 0.05898849 0.0588644  0.05496824\n",
      " 0.05330554 0.0524866  0.05442228 0.05065019 0.05648203 0.05650685\n",
      " 0.05859142 0.05955926 0.05702799 0.06010522 0.06787274 0.06578817\n",
      " 0.0670538  0.07112368 0.06782311 0.07238932 0.07655847 0.07586361\n",
      " 0.07514393 0.07439944 0.07854378 0.08239031 0.08395374 0.08472305\n",
      " 0.09139865 0.09651082 0.10283899 0.09953842 0.10417907 0.10266528\n",
      " 0.10549434 0.11420488 0.11254219 0.10735557 0.09757792 0.10675998\n",
      " 0.10489875 0.10837304 0.11274072 0.11380782 0.10829859 0.10385646\n",
      " 0.10549434 0.1060403  0.10519655 0.10976276 0.10874528 0.10901826\n",
      " 0.10673516 0.10661108 0.10539508 0.11163047 0.11184355 0.11262681\n",
      " 0.11373936 0.11497672 0.11621973 0.11741421 0.11854201 0.11960187\n",
      " 0.12059956 0.12154368 0.12244412 0.12331103 0.12415449 0.12498382\n",
      " 0.12580702 0.12663056 0.12745932]\n"
     ]
    },
    {
     "name": "stdout",
     "output_type": "stream",
     "text": [
      "18 day output [[0.12829643]]\n",
      "19 day input [0.07869267 0.07439944 0.07536728 0.07149593 0.07740222 0.07839488\n",
      " 0.07757594 0.07556581 0.07531765 0.07030474 0.07298491 0.06134604\n",
      " 0.06196645 0.06603633 0.0672027  0.0588644  0.05653167 0.04873933\n",
      " 0.05419893 0.06035338 0.05742505 0.05390113 0.05350407 0.06000596\n",
      " 0.05534048 0.05948481 0.05898849 0.0588644  0.05496824 0.05330554\n",
      " 0.0524866  0.05442228 0.05065019 0.05648203 0.05650685 0.05859142\n",
      " 0.05955926 0.05702799 0.06010522 0.06787274 0.06578817 0.0670538\n",
      " 0.07112368 0.06782311 0.07238932 0.07655847 0.07586361 0.07514393\n",
      " 0.07439944 0.07854378 0.08239031 0.08395374 0.08472305 0.09139865\n",
      " 0.09651082 0.10283899 0.09953842 0.10417907 0.10266528 0.10549434\n",
      " 0.11420488 0.11254219 0.10735557 0.09757792 0.10675998 0.10489875\n",
      " 0.10837304 0.11274072 0.11380782 0.10829859 0.10385646 0.10549434\n",
      " 0.1060403  0.10519655 0.10976276 0.10874528 0.10901826 0.10673516\n",
      " 0.10661108 0.10539508 0.11163047 0.11184355 0.11262681 0.11373936\n",
      " 0.11497672 0.11621973 0.11741421 0.11854201 0.11960187 0.12059956\n",
      " 0.12154368 0.12244412 0.12331103 0.12415449 0.12498382 0.12580702\n",
      " 0.12663056 0.12745932 0.12829643]\n",
      "19 day output [[0.12914349]]\n",
      "20 day input [0.07439944 0.07536728 0.07149593 0.07740222 0.07839488 0.07757594\n",
      " 0.07556581 0.07531765 0.07030474 0.07298491 0.06134604 0.06196645\n",
      " 0.06603633 0.0672027  0.0588644  0.05653167 0.04873933 0.05419893\n",
      " 0.06035338 0.05742505 0.05390113 0.05350407 0.06000596 0.05534048\n",
      " 0.05948481 0.05898849 0.0588644  0.05496824 0.05330554 0.0524866\n",
      " 0.05442228 0.05065019 0.05648203 0.05650685 0.05859142 0.05955926\n",
      " 0.05702799 0.06010522 0.06787274 0.06578817 0.0670538  0.07112368\n",
      " 0.06782311 0.07238932 0.07655847 0.07586361 0.07514393 0.07439944\n",
      " 0.07854378 0.08239031 0.08395374 0.08472305 0.09139865 0.09651082\n",
      " 0.10283899 0.09953842 0.10417907 0.10266528 0.10549434 0.11420488\n",
      " 0.11254219 0.10735557 0.09757792 0.10675998 0.10489875 0.10837304\n",
      " 0.11274072 0.11380782 0.10829859 0.10385646 0.10549434 0.1060403\n",
      " 0.10519655 0.10976276 0.10874528 0.10901826 0.10673516 0.10661108\n",
      " 0.10539508 0.11163047 0.11184355 0.11262681 0.11373936 0.11497672\n",
      " 0.11621973 0.11741421 0.11854201 0.11960187 0.12059956 0.12154368\n",
      " 0.12244412 0.12331103 0.12415449 0.12498382 0.12580702 0.12663056\n",
      " 0.12745932 0.12829643 0.12914349]\n",
      "20 day output [[0.1300007]]\n",
      "21 day input [0.07536728 0.07149593 0.07740222 0.07839488 0.07757594 0.07556581\n",
      " 0.07531765 0.07030474 0.07298491 0.06134604 0.06196645 0.06603633\n",
      " 0.0672027  0.0588644  0.05653167 0.04873933 0.05419893 0.06035338\n",
      " 0.05742505 0.05390113 0.05350407 0.06000596 0.05534048 0.05948481\n",
      " 0.05898849 0.0588644  0.05496824 0.05330554 0.0524866  0.05442228\n",
      " 0.05065019 0.05648203 0.05650685 0.05859142 0.05955926 0.05702799\n",
      " 0.06010522 0.06787274 0.06578817 0.0670538  0.07112368 0.06782311\n",
      " 0.07238932 0.07655847 0.07586361 0.07514393 0.07439944 0.07854378\n",
      " 0.08239031 0.08395374 0.08472305 0.09139865 0.09651082 0.10283899\n",
      " 0.09953842 0.10417907 0.10266528 0.10549434 0.11420488 0.11254219\n",
      " 0.10735557 0.09757792 0.10675998 0.10489875 0.10837304 0.11274072\n",
      " 0.11380782 0.10829859 0.10385646 0.10549434 0.1060403  0.10519655\n",
      " 0.10976276 0.10874528 0.10901826 0.10673516 0.10661108 0.10539508\n",
      " 0.11163047 0.11184355 0.11262681 0.11373936 0.11497672 0.11621973\n",
      " 0.11741421 0.11854201 0.11960187 0.12059956 0.12154368 0.12244412\n",
      " 0.12331103 0.12415449 0.12498382 0.12580702 0.12663056 0.12745932\n",
      " 0.12829643 0.12914349 0.1300007 ]\n",
      "21 day output [[0.1308674]]\n",
      "22 day input [0.07149593 0.07740222 0.07839488 0.07757594 0.07556581 0.07531765\n",
      " 0.07030474 0.07298491 0.06134604 0.06196645 0.06603633 0.0672027\n",
      " 0.0588644  0.05653167 0.04873933 0.05419893 0.06035338 0.05742505\n",
      " 0.05390113 0.05350407 0.06000596 0.05534048 0.05948481 0.05898849\n",
      " 0.0588644  0.05496824 0.05330554 0.0524866  0.05442228 0.05065019\n",
      " 0.05648203 0.05650685 0.05859142 0.05955926 0.05702799 0.06010522\n",
      " 0.06787274 0.06578817 0.0670538  0.07112368 0.06782311 0.07238932\n",
      " 0.07655847 0.07586361 0.07514393 0.07439944 0.07854378 0.08239031\n",
      " 0.08395374 0.08472305 0.09139865 0.09651082 0.10283899 0.09953842\n",
      " 0.10417907 0.10266528 0.10549434 0.11420488 0.11254219 0.10735557\n",
      " 0.09757792 0.10675998 0.10489875 0.10837304 0.11274072 0.11380782\n",
      " 0.10829859 0.10385646 0.10549434 0.1060403  0.10519655 0.10976276\n",
      " 0.10874528 0.10901826 0.10673516 0.10661108 0.10539508 0.11163047\n",
      " 0.11184355 0.11262681 0.11373936 0.11497672 0.11621973 0.11741421\n",
      " 0.11854201 0.11960187 0.12059956 0.12154368 0.12244412 0.12331103\n",
      " 0.12415449 0.12498382 0.12580702 0.12663056 0.12745932 0.12829643\n",
      " 0.12914349 0.1300007  0.13086741]\n",
      "22 day output [[0.13174202]]\n",
      "23 day input [0.07740222 0.07839488 0.07757594 0.07556581 0.07531765 0.07030474\n",
      " 0.07298491 0.06134604 0.06196645 0.06603633 0.0672027  0.0588644\n",
      " 0.05653167 0.04873933 0.05419893 0.06035338 0.05742505 0.05390113\n",
      " 0.05350407 0.06000596 0.05534048 0.05948481 0.05898849 0.0588644\n",
      " 0.05496824 0.05330554 0.0524866  0.05442228 0.05065019 0.05648203\n",
      " 0.05650685 0.05859142 0.05955926 0.05702799 0.06010522 0.06787274\n",
      " 0.06578817 0.0670538  0.07112368 0.06782311 0.07238932 0.07655847\n",
      " 0.07586361 0.07514393 0.07439944 0.07854378 0.08239031 0.08395374\n",
      " 0.08472305 0.09139865 0.09651082 0.10283899 0.09953842 0.10417907\n",
      " 0.10266528 0.10549434 0.11420488 0.11254219 0.10735557 0.09757792\n",
      " 0.10675998 0.10489875 0.10837304 0.11274072 0.11380782 0.10829859\n",
      " 0.10385646 0.10549434 0.1060403  0.10519655 0.10976276 0.10874528\n",
      " 0.10901826 0.10673516 0.10661108 0.10539508 0.11163047 0.11184355\n",
      " 0.11262681 0.11373936 0.11497672 0.11621973 0.11741421 0.11854201\n",
      " 0.11960187 0.12059956 0.12154368 0.12244412 0.12331103 0.12415449\n",
      " 0.12498382 0.12580702 0.12663056 0.12745932 0.12829643 0.12914349\n",
      " 0.1300007  0.13086741 0.13174202]\n",
      "23 day output [[0.13262255]]\n",
      "24 day input [0.07839488 0.07757594 0.07556581 0.07531765 0.07030474 0.07298491\n",
      " 0.06134604 0.06196645 0.06603633 0.0672027  0.0588644  0.05653167\n",
      " 0.04873933 0.05419893 0.06035338 0.05742505 0.05390113 0.05350407\n",
      " 0.06000596 0.05534048 0.05948481 0.05898849 0.0588644  0.05496824\n",
      " 0.05330554 0.0524866  0.05442228 0.05065019 0.05648203 0.05650685\n",
      " 0.05859142 0.05955926 0.05702799 0.06010522 0.06787274 0.06578817\n",
      " 0.0670538  0.07112368 0.06782311 0.07238932 0.07655847 0.07586361\n",
      " 0.07514393 0.07439944 0.07854378 0.08239031 0.08395374 0.08472305\n",
      " 0.09139865 0.09651082 0.10283899 0.09953842 0.10417907 0.10266528\n",
      " 0.10549434 0.11420488 0.11254219 0.10735557 0.09757792 0.10675998\n",
      " 0.10489875 0.10837304 0.11274072 0.11380782 0.10829859 0.10385646\n",
      " 0.10549434 0.1060403  0.10519655 0.10976276 0.10874528 0.10901826\n",
      " 0.10673516 0.10661108 0.10539508 0.11163047 0.11184355 0.11262681\n",
      " 0.11373936 0.11497672 0.11621973 0.11741421 0.11854201 0.11960187\n",
      " 0.12059956 0.12154368 0.12244412 0.12331103 0.12415449 0.12498382\n",
      " 0.12580702 0.12663056 0.12745932 0.12829643 0.12914349 0.1300007\n",
      " 0.13086741 0.13174202 0.13262255]\n",
      "24 day output [[0.13350682]]\n",
      "25 day input [0.07757594 0.07556581 0.07531765 0.07030474 0.07298491 0.06134604\n",
      " 0.06196645 0.06603633 0.0672027  0.0588644  0.05653167 0.04873933\n",
      " 0.05419893 0.06035338 0.05742505 0.05390113 0.05350407 0.06000596\n",
      " 0.05534048 0.05948481 0.05898849 0.0588644  0.05496824 0.05330554\n",
      " 0.0524866  0.05442228 0.05065019 0.05648203 0.05650685 0.05859142\n",
      " 0.05955926 0.05702799 0.06010522 0.06787274 0.06578817 0.0670538\n",
      " 0.07112368 0.06782311 0.07238932 0.07655847 0.07586361 0.07514393\n",
      " 0.07439944 0.07854378 0.08239031 0.08395374 0.08472305 0.09139865\n",
      " 0.09651082 0.10283899 0.09953842 0.10417907 0.10266528 0.10549434\n",
      " 0.11420488 0.11254219 0.10735557 0.09757792 0.10675998 0.10489875\n",
      " 0.10837304 0.11274072 0.11380782 0.10829859 0.10385646 0.10549434\n",
      " 0.1060403  0.10519655 0.10976276 0.10874528 0.10901826 0.10673516\n",
      " 0.10661108 0.10539508 0.11163047 0.11184355 0.11262681 0.11373936\n",
      " 0.11497672 0.11621973 0.11741421 0.11854201 0.11960187 0.12059956\n",
      " 0.12154368 0.12244412 0.12331103 0.12415449 0.12498382 0.12580702\n",
      " 0.12663056 0.12745932 0.12829643 0.12914349 0.1300007  0.13086741\n",
      " 0.13174202 0.13262255 0.13350682]\n",
      "25 day output [[0.13439249]]\n",
      "26 day input [0.07556581 0.07531765 0.07030474 0.07298491 0.06134604 0.06196645\n",
      " 0.06603633 0.0672027  0.0588644  0.05653167 0.04873933 0.05419893\n",
      " 0.06035338 0.05742505 0.05390113 0.05350407 0.06000596 0.05534048\n",
      " 0.05948481 0.05898849 0.0588644  0.05496824 0.05330554 0.0524866\n",
      " 0.05442228 0.05065019 0.05648203 0.05650685 0.05859142 0.05955926\n",
      " 0.05702799 0.06010522 0.06787274 0.06578817 0.0670538  0.07112368\n",
      " 0.06782311 0.07238932 0.07655847 0.07586361 0.07514393 0.07439944\n",
      " 0.07854378 0.08239031 0.08395374 0.08472305 0.09139865 0.09651082\n",
      " 0.10283899 0.09953842 0.10417907 0.10266528 0.10549434 0.11420488\n",
      " 0.11254219 0.10735557 0.09757792 0.10675998 0.10489875 0.10837304\n",
      " 0.11274072 0.11380782 0.10829859 0.10385646 0.10549434 0.1060403\n",
      " 0.10519655 0.10976276 0.10874528 0.10901826 0.10673516 0.10661108\n",
      " 0.10539508 0.11163047 0.11184355 0.11262681 0.11373936 0.11497672\n",
      " 0.11621973 0.11741421 0.11854201 0.11960187 0.12059956 0.12154368\n",
      " 0.12244412 0.12331103 0.12415449 0.12498382 0.12580702 0.12663056\n",
      " 0.12745932 0.12829643 0.12914349 0.1300007  0.13086741 0.13174202\n",
      " 0.13262255 0.13350682 0.13439249]\n",
      "26 day output [[0.13527758]]\n",
      "27 day input [0.07531765 0.07030474 0.07298491 0.06134604 0.06196645 0.06603633\n",
      " 0.0672027  0.0588644  0.05653167 0.04873933 0.05419893 0.06035338\n",
      " 0.05742505 0.05390113 0.05350407 0.06000596 0.05534048 0.05948481\n",
      " 0.05898849 0.0588644  0.05496824 0.05330554 0.0524866  0.05442228\n",
      " 0.05065019 0.05648203 0.05650685 0.05859142 0.05955926 0.05702799\n",
      " 0.06010522 0.06787274 0.06578817 0.0670538  0.07112368 0.06782311\n",
      " 0.07238932 0.07655847 0.07586361 0.07514393 0.07439944 0.07854378\n",
      " 0.08239031 0.08395374 0.08472305 0.09139865 0.09651082 0.10283899\n",
      " 0.09953842 0.10417907 0.10266528 0.10549434 0.11420488 0.11254219\n",
      " 0.10735557 0.09757792 0.10675998 0.10489875 0.10837304 0.11274072\n",
      " 0.11380782 0.10829859 0.10385646 0.10549434 0.1060403  0.10519655\n",
      " 0.10976276 0.10874528 0.10901826 0.10673516 0.10661108 0.10539508\n",
      " 0.11163047 0.11184355 0.11262681 0.11373936 0.11497672 0.11621973\n",
      " 0.11741421 0.11854201 0.11960187 0.12059956 0.12154368 0.12244412\n",
      " 0.12331103 0.12415449 0.12498382 0.12580702 0.12663056 0.12745932\n",
      " 0.12829643 0.12914349 0.1300007  0.13086741 0.13174202 0.13262255\n",
      " 0.13350682 0.13439249 0.13527758]\n",
      "27 day output [[0.13616028]]\n",
      "28 day input [0.07030474 0.07298491 0.06134604 0.06196645 0.06603633 0.0672027\n",
      " 0.0588644  0.05653167 0.04873933 0.05419893 0.06035338 0.05742505\n",
      " 0.05390113 0.05350407 0.06000596 0.05534048 0.05948481 0.05898849\n",
      " 0.0588644  0.05496824 0.05330554 0.0524866  0.05442228 0.05065019\n",
      " 0.05648203 0.05650685 0.05859142 0.05955926 0.05702799 0.06010522\n",
      " 0.06787274 0.06578817 0.0670538  0.07112368 0.06782311 0.07238932\n",
      " 0.07655847 0.07586361 0.07514393 0.07439944 0.07854378 0.08239031\n",
      " 0.08395374 0.08472305 0.09139865 0.09651082 0.10283899 0.09953842\n",
      " 0.10417907 0.10266528 0.10549434 0.11420488 0.11254219 0.10735557\n",
      " 0.09757792 0.10675998 0.10489875 0.10837304 0.11274072 0.11380782\n",
      " 0.10829859 0.10385646 0.10549434 0.1060403  0.10519655 0.10976276\n",
      " 0.10874528 0.10901826 0.10673516 0.10661108 0.10539508 0.11163047\n",
      " 0.11184355 0.11262681 0.11373936 0.11497672 0.11621973 0.11741421\n",
      " 0.11854201 0.11960187 0.12059956 0.12154368 0.12244412 0.12331103\n",
      " 0.12415449 0.12498382 0.12580702 0.12663056 0.12745932 0.12829643\n",
      " 0.12914349 0.1300007  0.13086741 0.13174202 0.13262255 0.13350682\n",
      " 0.13439249 0.13527758 0.13616028]\n",
      "28 day output [[0.13703917]]\n",
      "29 day input [0.07298491 0.06134604 0.06196645 0.06603633 0.0672027  0.0588644\n",
      " 0.05653167 0.04873933 0.05419893 0.06035338 0.05742505 0.05390113\n",
      " 0.05350407 0.06000596 0.05534048 0.05948481 0.05898849 0.0588644\n",
      " 0.05496824 0.05330554 0.0524866  0.05442228 0.05065019 0.05648203\n",
      " 0.05650685 0.05859142 0.05955926 0.05702799 0.06010522 0.06787274\n",
      " 0.06578817 0.0670538  0.07112368 0.06782311 0.07238932 0.07655847\n",
      " 0.07586361 0.07514393 0.07439944 0.07854378 0.08239031 0.08395374\n",
      " 0.08472305 0.09139865 0.09651082 0.10283899 0.09953842 0.10417907\n",
      " 0.10266528 0.10549434 0.11420488 0.11254219 0.10735557 0.09757792\n",
      " 0.10675998 0.10489875 0.10837304 0.11274072 0.11380782 0.10829859\n",
      " 0.10385646 0.10549434 0.1060403  0.10519655 0.10976276 0.10874528\n",
      " 0.10901826 0.10673516 0.10661108 0.10539508 0.11163047 0.11184355\n",
      " 0.11262681 0.11373936 0.11497672 0.11621973 0.11741421 0.11854201\n",
      " 0.11960187 0.12059956 0.12154368 0.12244412 0.12331103 0.12415449\n",
      " 0.12498382 0.12580702 0.12663056 0.12745932 0.12829643 0.12914349\n",
      " 0.1300007  0.13086741 0.13174202 0.13262255 0.13350682 0.13439249\n",
      " 0.13527758 0.13616028 0.13703917]\n"
     ]
    },
    {
     "name": "stdout",
     "output_type": "stream",
     "text": [
      "29 day output [[0.13791315]]\n",
      "[[0.11163046956062317], [0.1118435487151146], [0.1126268059015274], [0.11373936384916306], [0.11497671902179718], [0.11621972918510437], [0.1174142137169838], [0.11854200810194016], [0.11960186809301376], [0.12059956043958664], [0.12154368311166763], [0.12244411557912827], [0.12331102788448334], [0.12415449321269989], [0.12498382478952408], [0.1258070170879364], [0.12663055956363678], [0.127459317445755], [0.12829643487930298], [0.12914349138736725], [0.13000069558620453], [0.13086740672588348], [0.13174201548099518], [0.13262255489826202], [0.13350681960582733], [0.13439248502254486], [0.13527758419513702], [0.13616028428077698], [0.1370391696691513], [0.13791315257549286]]\n"
     ]
    }
   ],
   "source": [
    "#demostrate prediction for next 10 days\n",
    "from numpy import array\n",
    "\n",
    "lst_output = []\n",
    "n_steps = 99\n",
    "i = 0\n",
    "while(i<30):\n",
    "    if(len(temp_input)>99):\n",
    "        #print(temp_input)\n",
    "        x_input = np.array(temp_input[1:])\n",
    "        print(\"{} day input {}\".format(i, x_input))\n",
    "        x_input = x_input.reshape(1, -1)\n",
    "        x_input = x_input.reshape((1, n_steps, 1))\n",
    "        \n",
    "        yhat = model.predict(x_input, verbose = 0)\n",
    "        print(\"{} day output {}\".format(i, yhat))\n",
    "        temp_input.extend(yhat[0].tolist())\n",
    "        temp_input = temp_input[1:]\n",
    "        lst_output.extend(yhat.tolist())\n",
    "        i = i+1\n",
    "    else:\n",
    "        x_input = x_input.reshape((1, n_steps, 1))\n",
    "        yhat = model.predict(x_input, verbose = 0)\n",
    "        print(yhat[0])\n",
    "        temp_input.extend(yhat[0].tolist())\n",
    "        print(len(temp_input))\n",
    "        lst_output.extend(yhat.tolist())\n",
    "        i = i + 1\n",
    "        \n",
    "print(lst_output)"
   ]
  },
  {
   "cell_type": "code",
   "execution_count": 75,
   "id": "31658629",
   "metadata": {},
   "outputs": [],
   "source": [
    "day_new = np.arange(1,101)\n",
    "day_pred = np.arange(101, 131)"
   ]
  },
  {
   "cell_type": "code",
   "execution_count": 76,
   "id": "a4fc66b4",
   "metadata": {},
   "outputs": [
    {
     "data": {
      "text/plain": [
       "1257"
      ]
     },
     "execution_count": 76,
     "metadata": {},
     "output_type": "execute_result"
    }
   ],
   "source": [
    "import matplotlib.pyplot as plt\n",
    "len(df2)"
   ]
  },
  {
   "cell_type": "code",
   "execution_count": 77,
   "id": "5d95f71f",
   "metadata": {},
   "outputs": [],
   "source": [
    "df3 = df2.tolist()\n",
    "df3.extend(lst_output)"
   ]
  },
  {
   "cell_type": "code",
   "execution_count": 78,
   "id": "0546b745",
   "metadata": {},
   "outputs": [
    {
     "data": {
      "text/plain": [
       "30"
      ]
     },
     "execution_count": 78,
     "metadata": {},
     "output_type": "execute_result"
    }
   ],
   "source": [
    "len(day_pred)"
   ]
  },
  {
   "cell_type": "code",
   "execution_count": 79,
   "id": "2bfe7141",
   "metadata": {},
   "outputs": [
    {
     "data": {
      "text/plain": [
       "[<matplotlib.lines.Line2D at 0x280f613dfd0>]"
      ]
     },
     "execution_count": 79,
     "metadata": {},
     "output_type": "execute_result"
    },
    {
     "data": {
      "image/png": "[encoded data removed]",
      "text/plain": [
       "<Figure size 432x288 with 1 Axes>"
      ]
     },
     "metadata": {
      "needs_background": "light"
     },
     "output_type": "display_data"
    }
   ],
   "source": [
    "plt.plot(day_new, scaler.inverse_transform(df2[1157:]))  #1257 - 100days = 1157\n",
    "plt.plot(day_pred, scaler.inverse_transform(lst_output))"
   ]
  },
  {
   "cell_type": "markdown",
   "id": "5634b7ea",
   "metadata": {},
   "source": [
    "This graph is showing next 30 days prdiction "
   ]
  },
  {
   "cell_type": "code",
   "execution_count": 86,
   "id": "2b09ba89",
   "metadata": {},
   "outputs": [
    {
     "data": {
      "text/plain": [
       "[<matplotlib.lines.Line2D at 0x280f6860640>]"
      ]
     },
     "execution_count": 86,
     "metadata": {},
     "output_type": "execute_result"
    },
    {
     "data": {
      "image/png": "[encoded data removed]",
      "text/plain": [
       "<Figure size 432x288 with 1 Axes>"
      ]
     },
     "metadata": {
      "needs_background": "light"
     },
     "output_type": "display_data"
    }
   ],
   "source": [
    "df3 = df2.tolist()\n",
    "df3.extend(lst_output)\n",
    "plt.plot(df3[1200:])"
   ]
  },
  {
   "cell_type": "code",
   "execution_count": 80,
   "id": "e3d372d8",
   "metadata": {},
   "outputs": [],
   "source": [
    "df3=scaler.inverse_transform(df3).tolist()"
   ]
  },
  {
   "cell_type": "code",
   "execution_count": 81,
   "id": "f6c42ed5",
   "metadata": {},
   "outputs": [
    {
     "data": {
      "text/plain": [
       "[<matplotlib.lines.Line2D at 0x280f628b5e0>]"
      ]
     },
     "execution_count": 81,
     "metadata": {},
     "output_type": "execute_result"
    },
    {
     "data": {
      "image/png": "[encoded data removed]",
      "text/plain": [
       "<Figure size 432x288 with 1 Axes>"
      ]
     },
     "metadata": {
      "needs_background": "light"
     },
     "output_type": "display_data"
    }
   ],
   "source": [
    "plt.plot(df3)"
   ]
  },
  {
   "cell_type": "code",
   "execution_count": null,
   "id": "ab18cfa3",
   "metadata": {},
   "outputs": [],
   "source": []
  }
 ],
 "metadata": {
  "kernelspec": {
   "display_name": "Python 3 (ipykernel)",
   "language": "python",
   "name": "python3"
  },
  "language_info": {
   "codemirror_mode": {
    "name": "ipython",
    "version": 3
   },
   "file_extension": ".py",
   "mimetype": "text/x-python",
   "name": "python",
   "nbconvert_exporter": "python",
   "pygments_lexer": "ipython3",
   "version": "3.9.6"
  }
 },
 "nbformat": 4,
 "nbformat_minor": 5
}
